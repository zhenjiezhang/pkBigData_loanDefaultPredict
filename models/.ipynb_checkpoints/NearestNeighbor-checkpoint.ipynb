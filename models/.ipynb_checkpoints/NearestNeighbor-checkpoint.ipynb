{
 "cells": [
  {
   "cell_type": "code",
   "execution_count": 7,
   "metadata": {
    "collapsed": false
   },
   "outputs": [],
   "source": [
    "import pandas as pd\n",
    "import numpy as np\n",
    "from sklearn.model_selection import train_test_split\n",
    "from sklearn.model_selection import cross_val_score\n",
    "from sklearn.preprocessing import StandardScaler\n",
    "from sklearn.preprocessing import Imputer\n",
    "from sklearn.preprocessing import normalize\n",
    "\n",
    "from sklearn.neighbors import NearestNeighbors\n",
    "from sklearn.neighbors import KNeighborsClassifier\n",
    "\n",
    "from scipy.stats import ks_2samp\n",
    "\n",
    "from matplotlib import pyplot as plt\n",
    "%matplotlib inline\n",
    "\n",
    "inputFolder='../data/'\n",
    "trainFolder=inputFolder+'train/'\n",
    "testFolder=inputFolder+'test/'"
   ]
  },
  {
   "cell_type": "code",
   "execution_count": 399,
   "metadata": {
    "collapsed": false
   },
   "outputs": [],
   "source": [
    "trainUsers=pd.read_csv(trainFolder+'user_info_train.txt', \\\n",
    "                           names=['id','sex','profession','education','marriage','citizen_type'],\\\n",
    "                          index_col=0)\n",
    "\n",
    "trainBanks=pd.read_csv(trainFolder+'bank_detail_train.txt',\\\n",
    "                          names=['user_id', 'time', 'transaction_type', 'amount', 'is_salary'])\n",
    "\n",
    "trainBrowse=pd.read_csv(trainFolder+'browse_history_train.txt',\\\n",
    "                           names=['user_id', 'time', 'browse_type', 'sub_type'])\n",
    "\n",
    "trainBills=pd.read_csv(trainFolder+'bill_detail_train.txt',\\\n",
    "                          names=['user_id', 'time', 'bank_id', 'last_bill_amount', 'last_bill_pay', 'credit_line',\\\n",
    "                                 'cur_bill_balance', 'cur_bill_min_due', 'transactionNum', 'cur_bill_amount', \\\n",
    "                                 'adjusted_amount', 'cumulative_interest', 'available_deposit', 'available_credit', 'debt_status'])\n",
    "\n",
    "trainLoanTime=pd.read_csv(trainFolder+'loan_time_train.txt',\\\n",
    "                                names=['user_id', 'time'])\n",
    "\n",
    "trainOverdue=pd.read_csv(trainFolder+'overdue_train.txt',\\\n",
    "                            names=['user_id', 'label'], index_col=0)"
   ]
  },
  {
   "cell_type": "code",
   "execution_count": 9,
   "metadata": {
    "collapsed": false
   },
   "outputs": [
    {
     "name": "stdout",
     "output_type": "stream",
     "text": [
      "\n"
     ]
    }
   ],
   "source": [
    "print "
   ]
  },
  {
   "cell_type": "code",
   "execution_count": 383,
   "metadata": {
    "collapsed": false
   },
   "outputs": [],
   "source": [
    "userFeatures=trainUsers.copy()\n",
    "\n",
    "bankRecordsPersonal=trainBanks.groupby('user_id')\n",
    "\n",
    "userFeatures['transactionNum']=bankRecordsPersonal['amount'].count()\n",
    "userFeatures['transactionAmount']=bankRecordsPersonal['amount'].sum()\n",
    "\n",
    "# got worse\n",
    "# userFeatures['transactionNetAmount']=bankRecordsPersonal.apply(lambda x: x[x['transaction_type']==1]['amount'].sum())-\\\n",
    "#         bankRecordsPersonal.apply(lambda x: x[x['transaction_type']==0]['amount'].sum())\n",
    "# userFeatures['transactionTimeSpan']=bankRecordsPersonal['time'].max()-bankRecordsPersonal['time'].min()\n",
    "\n",
    "userFeatures['transactionExpense']=bankRecordsPersonal.apply(lambda x: x[x['transaction_type']==1]['amount'].sum())\n",
    "userFeatures['transactionExpenseMax']=bankRecordsPersonal.apply(lambda x: x[x['transaction_type']==1]['amount'].max())\n",
    "userFeatures['transactionExpenseAvg']=bankRecordsPersonal.apply(lambda x: x[x['transaction_type']==1]['amount'].mean())\n",
    "\n",
    "userFeatures['transactionIncome']=bankRecordsPersonal.apply(lambda x: x[x['transaction_type']==0]['amount'].sum())\n",
    "# not useful\n",
    "# userFeatures['transactionIncomeMax']=bankRecordsPersonal.apply(lambda x: x[x['transaction_type']==0]['amount'].max())\n",
    "# userFeatures['transactionIncomeAvg']=bankRecordsPersonal.apply(lambda x: x[x['transaction_type']==0]['amount'].mean())\n",
    "\n",
    "userFeatures['transactionExpenseNum']=bankRecordsPersonal.apply(lambda x: x[x['transaction_type']==1]['amount'].count())\n",
    "userFeatures['transactionIncomeNum']=bankRecordsPersonal.apply(lambda x: x[x['transaction_type']==0]['amount'].count())\n",
    "userFeatures['salaryNum']=bankRecordsPersonal['is_salary'].sum()\n",
    "userFeatures['salaryTotal']=bankRecordsPersonal.apply(lambda x: x[x['is_salary']==1]['amount'].sum())\n",
    "userFeatures['salaryAvg']=bankRecordsPersonal.apply(lambda x: x[x['is_salary']==1]['amount'].mean())\n",
    "userFeatures['salaryMax']=bankRecordsPersonal.apply(lambda x: x[x['is_salary']==1]['amount'].max())\n",
    "# userFeatures['salaryAvg']=\n",
    "\n",
    "browseRecordsPersonal=trainBrowse.groupby('user_id')\n",
    "userFeatures['browseNum']=browseRecordsPersonal['time'].count()\n",
    "userFeatures['browseTypes']=browseRecordsPersonal['browse_type'].nunique()\n",
    "userFeatures['browseSubTypes']=browseRecordsPersonal.apply(lambda x: x.groupby('browse_type')['sub_type'].nunique().sum())\n",
    "\n",
    "bills=trainBills.groupby('user_id')\n",
    "userFeatures['billBanksNum']=bills['bank_id'].nunique()\n",
    "userFeatures['billNum']=bills['time'].count()\n",
    "userFeatures['available_credit']=bi\n",
    "\n",
    "# userFeatures['loanTime']=trainLoanTime['time']"
   ]
  },
  {
   "cell_type": "code",
   "execution_count": 384,
   "metadata": {
    "collapsed": false
   },
   "outputs": [
    {
     "name": "stdout",
     "output_type": "stream",
     "text": [
      "      sex  profession  education  marriage  citizen_type  transactionNum  \\\n",
      "id                                                                         \n",
      "3150    1           2          4         1             4               0   \n",
      "6965    1           2          4         3             2             364   \n",
      "1265    1           3          4         3             1             419   \n",
      "6360    1           2          4         3             2               0   \n",
      "2583    2           2          2         1             1             831   \n",
      "\n",
      "      transactionAmount  transactionAvgAmount  transactionExpense  \\\n",
      "id                                                                  \n",
      "3150           0.000000                   NaN                 NaN   \n",
      "6965        4207.382203             11.558742         3234.531975   \n",
      "1265        5370.663258             12.817812         3662.457063   \n",
      "6360           0.000000                   NaN                 NaN   \n",
      "2583        9800.785996             11.793966         7064.310678   \n",
      "\n",
      "      transactionExpenseMax   ...     transactionIncomeNum  salaryNum  \\\n",
      "id                            ...                                       \n",
      "3150                    NaN   ...                      NaN          0   \n",
      "6965              15.366101   ...                     75.0          0   \n",
      "1265              18.256472   ...                    125.0          0   \n",
      "6360                    NaN   ...                      NaN          0   \n",
      "2583              16.059248   ...                    213.0          0   \n",
      "\n",
      "      salaryTotal  salaryAvg  salaryMax  browseNum  browseTypes  \\\n",
      "id                                                                \n",
      "3150          0.0        NaN        NaN        NaN            0   \n",
      "6965          0.0        NaN        NaN     1710.0           39   \n",
      "1265          0.0        NaN        NaN      420.0           17   \n",
      "6360          0.0        NaN        NaN      225.0            9   \n",
      "2583          0.0        NaN        NaN      702.0           20   \n",
      "\n",
      "      browseSubTypes  billBanksNum  billNum  \n",
      "id                                           \n",
      "3150               0             5       38  \n",
      "6965              39             2        4  \n",
      "1265              17             2       54  \n",
      "6360               9             8      141  \n",
      "2583              20             3       24  \n",
      "\n",
      "[5 rows x 23 columns]\n"
     ]
    }
   ],
   "source": [
    "userFeatures['transactionNum'].fillna(0, inplace=True)\n",
    "userFeatures['transactionNum']=userFeatures['transactionNum'].astype(int)\n",
    "\n",
    "\n",
    "userFeatures['salaryNum'].fillna(0, inplace=True)\n",
    "userFeatures['salaryNum']=userFeatures['salaryNum'].astype(int)\n",
    "\n",
    "# userFeatures['browseNum'].fillna(0, inplace=True)\n",
    "userFeatures['browseTypes'].fillna(0, inplace=True)\n",
    "userFeatures['browseTypes']=userFeatures['browseTypes'].astype(int)\n",
    "\n",
    "userFeatures['browseSubTypes'].fillna(0, inplace=True)\n",
    "userFeatures['browseSubTypes']=userFeatures['browseSubTypes'].astype(int)\n",
    "\n",
    "userFeatures['billBanksNum'].fillna(0, inplace=True)\n",
    "userFeatures['billBanksNum']=userFeatures['billBanksNum'].astype(int)\n",
    "\n",
    "userFeatures['billNum'].fillna(0, inplace=True)\n",
    "userFeatures['billNum']=userFeatures['billNum'].astype(int)\n",
    "\n",
    "userFeatures['salaryTotal'].fillna(0, inplace=True)\n",
    "userFeatures['transactionAmount'].fillna(0, inplace=True)\n",
    "# userFeatures['browseNum']=userFeatures['browseNum'].astype(int)\n",
    "\n",
    "\n",
    "\n",
    "\n",
    "\n",
    "print userFeatures.head()"
   ]
  },
  {
   "cell_type": "code",
   "execution_count": 385,
   "metadata": {
    "collapsed": false
   },
   "outputs": [],
   "source": [
    "userFeatures.sort_index(inplace=True)\n",
    "trainOverdue.sort_index(inplace=True)"
   ]
  },
  {
   "cell_type": "code",
   "execution_count": 386,
   "metadata": {
    "collapsed": true
   },
   "outputs": [],
   "source": [
    "def convert2Dummies(df, cln):\n",
    "    dummies=pd.get_dummies(df[cln]).astype(int)\n",
    "    dummies.columns=[cln+`c` for c in dummies.columns]\n",
    "\n",
    "    return pd.concat([df, dummies], axis=1)"
   ]
  },
  {
   "cell_type": "code",
   "execution_count": 387,
   "metadata": {
    "collapsed": false
   },
   "outputs": [],
   "source": [
    "userFeatures=convert2Dummies(userFeatures, 'sex')\n",
    "userFeatures=convert2Dummies(userFeatures, 'profession')\n",
    "userFeatures=convert2Dummies(userFeatures, 'education')\n",
    "userFeatures=convert2Dummies(userFeatures, 'marriage')\n",
    "userFeatures=convert2Dummies(userFeatures, 'citizen_type')\n"
   ]
  },
  {
   "cell_type": "code",
   "execution_count": 388,
   "metadata": {
    "collapsed": false
   },
   "outputs": [],
   "source": [
    "# overdueAmount=userFeatures['transactionAmount'].values[trainOverdue.values.ravel()==1]\n",
    "# plt.hist(overdueAmount, bins=20)\n",
    "# plt.figure()\n",
    "# plt.hist(userFeatures['transactionAmount'].values, bins=20)"
   ]
  },
  {
   "cell_type": "code",
   "execution_count": 389,
   "metadata": {
    "collapsed": false
   },
   "outputs": [
    {
     "name": "stdout",
     "output_type": "stream",
     "text": [
      "    sex  profession  education  marriage  citizen_type  transactionNum  \\\n",
      "id                                                                       \n",
      "1     1           2          3         1             3              86   \n",
      "2     1           2          3         2             1               0   \n",
      "3     1           4          4         1             4             679   \n",
      "4     1           4          4         3             2             291   \n",
      "5     1           2          2         3             1               0   \n",
      "\n",
      "    transactionAmount  transactionAvgAmount  transactionExpense  \\\n",
      "id                                                                \n",
      "1         1156.718031             13.450210          676.025269   \n",
      "2            0.000000                   NaN                 NaN   \n",
      "3         7264.831053             10.699309         4985.957607   \n",
      "4         3293.768106             11.318791         2129.425722   \n",
      "5            0.000000                   NaN                 NaN   \n",
      "\n",
      "    transactionExpenseMax      ...        marriage1  marriage2  marriage3  \\\n",
      "id                             ...                                          \n",
      "1               17.157860      ...                1          0          0   \n",
      "2                     NaN      ...                0          1          0   \n",
      "3               15.142957      ...                1          0          0   \n",
      "4               15.142957      ...                0          0          1   \n",
      "5                     NaN      ...                0          0          1   \n",
      "\n",
      "    marriage4  marriage5  citizen_type0  citizen_type1  citizen_type2  \\\n",
      "id                                                                      \n",
      "1           0          0              0              0              0   \n",
      "2           0          0              0              1              0   \n",
      "3           0          0              0              0              0   \n",
      "4           0          0              0              0              1   \n",
      "5           0          0              0              1              0   \n",
      "\n",
      "    citizen_type3  citizen_type4  \n",
      "id                                \n",
      "1               1              0  \n",
      "2               0              0  \n",
      "3               0              1  \n",
      "4               0              0  \n",
      "5               0              0  \n",
      "\n",
      "[5 rows x 47 columns]\n"
     ]
    }
   ],
   "source": [
    "print userFeatures.head()"
   ]
  },
  {
   "cell_type": "code",
   "execution_count": 390,
   "metadata": {
    "collapsed": false
   },
   "outputs": [],
   "source": [
    "userFeatures_select=userFeatures.copy()"
   ]
  },
  {
   "cell_type": "code",
   "execution_count": 391,
   "metadata": {
    "collapsed": false
   },
   "outputs": [],
   "source": [
    "X=userFeatures_select.values\n",
    "imp=Imputer(missing_values='NaN', strategy='most_frequent', axis=0)\n",
    "X=imp.fit_transform(X)\n",
    "y=trainOverdue.values.ravel()"
   ]
  },
  {
   "cell_type": "code",
   "execution_count": 392,
   "metadata": {
    "collapsed": false
   },
   "outputs": [
    {
     "name": "stdout",
     "output_type": "stream",
     "text": [
      "[-0.09984565  0.00826746  0.03870428  0.00396767  0.01066433  0.02240804\n",
      "  0.01833539  0.02938393  0.01928639 -0.052578    0.02922111  0.01526059\n",
      "  0.01430856  0.00833712 -0.00175276 -0.00548025 -0.01266307 -0.01799713\n",
      " -0.02566857  0.01834179  0.01834026 -0.07649229 -0.05819992  0.13775726\n",
      " -0.01059447 -0.05074661  0.01815592  0.00654069 -0.01376585 -0.00278987\n",
      "  0.0146259   0.01804614 -0.00943854 -0.0422042  -0.00684591  0.03592918\n",
      "  0.01793669 -0.00793756  0.00428987 -0.00054338  0.00666468  0.01036003\n",
      "  0.01804614 -0.02056155  0.01613081 -0.01261837  0.01202309]\n"
     ]
    }
   ],
   "source": [
    "corrmatrix=np.corrcoef(X.T, y)\n",
    "print corrmatrix[-1,:-1]"
   ]
  },
  {
   "cell_type": "code",
   "execution_count": 393,
   "metadata": {
    "collapsed": false
   },
   "outputs": [],
   "source": [
    "X_train, X_test, y_train, y_test=train_test_split(X, y, test_size=0.2, random_state=8)\n",
    "weights=y_train+1"
   ]
  },
  {
   "cell_type": "code",
   "execution_count": 394,
   "metadata": {
    "collapsed": false
   },
   "outputs": [
    {
     "data": {
      "text/plain": [
       "array([[-0.33689176,  2.14097994,  0.99953475, ..., -0.62446927,\n",
       "        -0.41475882, -0.58884405],\n",
       "       [-0.33689176,  0.81791615, -0.30181203, ...,  1.60135982,\n",
       "        -0.41475882, -0.58884405],\n",
       "       [-0.33689176, -0.50514763, -0.30181203, ...,  1.60135982,\n",
       "        -0.41475882, -0.58884405],\n",
       "       ..., \n",
       "       [-0.33689176, -0.50514763, -0.30181203, ..., -0.62446927,\n",
       "        -0.41475882,  1.6982425 ],\n",
       "       [-0.33689176, -0.50514763, -0.30181203, ..., -0.62446927,\n",
       "        -0.41475882, -0.58884405],\n",
       "       [-0.33689176, -0.50514763,  0.99953475, ...,  1.60135982,\n",
       "        -0.41475882, -0.58884405]])"
      ]
     },
     "execution_count": 394,
     "metadata": {},
     "output_type": "execute_result"
    }
   ],
   "source": [
    "scaler=StandardScaler()\n",
    "scaler.fit_transform(X_train)\n",
    "scaler.transform(X_test)"
   ]
  },
  {
   "cell_type": "code",
   "execution_count": 395,
   "metadata": {
    "collapsed": false
   },
   "outputs": [
    {
     "name": "stdout",
     "output_type": "stream",
     "text": [
      "[[  3.75782888e-02   3.72989658e-06   1.12752794e-03   2.46603444e-07\n",
      "    9.56693608e-06   1.49249670e-04   7.10546474e-05   4.06842089e-04\n",
      "    8.56736677e-05   3.50262852e-03   3.98563203e-04   3.60274373e-05\n",
      "    2.83872668e-05   3.84749474e-06   1.20001948e-08   8.14670218e-07\n",
      "    1.80639722e-05   6.63240754e-05   2.46720482e-04   7.11464696e-05\n",
      "    7.11245881e-05   1.40218264e-02   5.10072720e-03   1.23635379e-01\n",
      "    9.33711659e-06   3.07202916e-03   6.85152170e-05   1.56756394e-06\n",
      "    2.46031249e-05   6.70010602e-08   3.07874109e-05   6.69948523e-05\n",
      "    6.08928515e-06   1.55322838e-03   1.85572734e-06   8.56198260e-04\n",
      "    6.55036963e-05   3.20819762e-06   3.29201956e-07   1.57505213e-10\n",
      "    1.68036243e-06   8.59517488e-06   6.69948523e-05   1.08574041e-04\n",
      "    4.42330877e-05   1.78291861e-05   1.49100259e-05]]\n"
     ]
    }
   ],
   "source": [
    "factors=abs(np.array(corrmatrix[-1, :-1]))**1.7\n",
    "for i in xrange(2):\n",
    "    factors=normalize(factors.reshape(1,-1))\n",
    "    factors*=abs(corrmatrix[-1, :-1])\n",
    "print factors"
   ]
  },
  {
   "cell_type": "code",
   "execution_count": 396,
   "metadata": {
    "collapsed": false
   },
   "outputs": [],
   "source": [
    "X_train*=factors\n",
    "X_test*=factors\n",
    "    "
   ]
  },
  {
   "cell_type": "code",
   "execution_count": 397,
   "metadata": {
    "collapsed": false
   },
   "outputs": [],
   "source": [
    "knnc = KNeighborsClassifier(n_neighbors=10, weights='distance')\n",
    "knnc.fit(X_train, y_train)\n",
    "pred=knnc.predict_proba(X_test)[:,1]"
   ]
  },
  {
   "cell_type": "code",
   "execution_count": 398,
   "metadata": {
    "collapsed": false
   },
   "outputs": [
    {
     "name": "stdout",
     "output_type": "stream",
     "text": [
      "383\n",
      "0.130575539568\n",
      "1452\n",
      "5731\n",
      "0.0771349862259\n",
      "Ks_2sampResult(statistic=0.13507997187050858, pvalue=1.4274786593642516e-20)\n"
     ]
    }
   ],
   "source": [
    "print len(pred[pred>0.5])\n",
    "print 1.0*sum(y_test)/len(y_test)\n",
    "print sum(y_test)\n",
    "print sum(y_train)\n",
    "print 1.0*len(pred[(pred>0.5)&(y_test==1)])/sum(y_test==1)\n",
    "\n",
    "p=pred[y_test==1]\n",
    "n=pred[y_test==0]\n",
    "print ks_2samp(p,n)"
   ]
  },
  {
   "cell_type": "code",
   "execution_count": null,
   "metadata": {
    "collapsed": true
   },
   "outputs": [],
   "source": []
  },
  {
   "cell_type": "code",
   "execution_count": null,
   "metadata": {
    "collapsed": true
   },
   "outputs": [],
   "source": []
  }
 ],
 "metadata": {
  "kernelspec": {
   "display_name": "Python 2",
   "language": "python",
   "name": "python2"
  },
  "language_info": {
   "codemirror_mode": {
    "name": "ipython",
    "version": 2
   },
   "file_extension": ".py",
   "mimetype": "text/x-python",
   "name": "python",
   "nbconvert_exporter": "python",
   "pygments_lexer": "ipython2",
   "version": "2.7.12"
  }
 },
 "nbformat": 4,
 "nbformat_minor": 0
}
