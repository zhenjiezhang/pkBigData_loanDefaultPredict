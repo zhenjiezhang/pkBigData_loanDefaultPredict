{
 "cells": [
  {
   "cell_type": "code",
   "execution_count": 53,
   "metadata": {
    "collapsed": false
   },
   "outputs": [],
   "source": [
    "import pandas as pd\n",
    "import numpy as np\n",
    "from sklearn.model_selection import train_test_split, cross_val_score\n",
    "from sklearn.preprocessing import StandardScaler\n",
    "from sklearn.preprocessing import Imputer\n",
    "from sklearn.preprocessing import normalize\n",
    "\n",
    "from sklearn.ensemble import RandomForestClassifier as rfc\n",
    "from sklearn.neighbors import NearestNeighbors\n",
    "from sklearn.neighbors import KNeighborsClassifier\n",
    "\n",
    "import xgboost as xgb\n",
    "from xgboost.sklearn import XGBClassifier\n",
    "\n",
    "from scipy.stats import ks_2samp\n",
    "from scipy.special import binom\n",
    "\n",
    "from matplotlib import pyplot as plt\n",
    "%matplotlib inline\n",
    "\n",
    "inputFolder='../data/'\n",
    "trainFolder=inputFolder+'train/'\n",
    "testFolder=inputFolder+'test/'\n",
    "\n"
   ]
  },
  {
   "cell_type": "code",
   "execution_count": 54,
   "metadata": {
    "collapsed": false
   },
   "outputs": [],
   "source": [
    "def readFiles(type='train'):\n",
    "    if type not in ('train', 'test'):\n",
    "        print 'error: type must be either \\'train\\' or \\'test\\''\n",
    "        return\n",
    "    \n",
    "    folder=trainFolder if type=='train' else testFolder\n",
    "    \n",
    "    usersFile=folder+'user_info_'+type+'.txt'\n",
    "    banksFile=folder+'bank_detail_'+type+'.txt'\n",
    "    browseFile=folder+'browse_history_'+type+'.txt'\n",
    "    billsFile=folder+'bill_detail_'+type+'.txt'\n",
    "    loanTimeFile=folder+'loan_time_'+type+'.txt'\n",
    "    overdueFile=folder+'overdue_'+type+'.txt'\n",
    "\n",
    "    users=pd.read_csv(usersFile, \\\n",
    "              names=['id','sex','profession','education','marriage','citizen_type'],\\\n",
    "              index_col=0).sort_index()\n",
    "    banks=pd.read_csv(banksFile,\\\n",
    "              names=['user_id', 'time', 'transaction_type', 'amount', 'is_salary'])\n",
    "\n",
    "    browse=pd.read_csv(browseFile,\\\n",
    "               names=['user_id', 'time', 'browse_type', 'sub_type'])\n",
    "    bills=pd.read_csv(billsFile,\\\n",
    "              names=['user_id', 'time', 'bank_id', 'last_bill_amount', 'last_bill_pay', 'credit_line',\\\n",
    "                     'cur_bill_balance', 'cur_bill_min_due', 'transactionNum', 'cur_bill_amount', \\\n",
    "                     'adjusted_amount', 'cumulative_interest', 'available_deposit', 'available_credit', 'debt_status'])\n",
    "\n",
    "    loanTimes=pd.read_csv(loanTimeFile,\\\n",
    "              names=['user_id', 'time'], index_col=0).sort_index()\n",
    "\n",
    "    overdues=pd.read_csv(overdueFile,\\\n",
    "              names=['user_id', 'label'], index_col=0).sort_index().values.ravel() if type=='train' else None\n",
    "    \n",
    "    def processTime(t):\n",
    "        t-=5746916127\n",
    "        hour=(t.div(3600)).astype(int)%24\n",
    "        day=(t.div(3600.0*24)).astype(int)\n",
    "      \n",
    "        year=(day.div(365)).astype(int)\n",
    "        month=(day-365*year).div(30).astype(int)\n",
    "        weekday=day%7\n",
    "        monthday=day-year*365-month*30\n",
    "        \n",
    "        \n",
    "        \n",
    "        \n",
    "        return year+1, month+1, monthday+1, weekday+1, hour+1\n",
    "    \n",
    "    def processTimeInData(d, time='time'):\n",
    "        year, month, monthday, weekday, hour = processTime(d[time])\n",
    "        d['year']=year\n",
    "        d['month']=month\n",
    "        d['monthday']=monthday\n",
    "        d['weekday']=weekday\n",
    "        d['hour']=hour\n",
    "        return d\n",
    "    \n",
    "#     banks=processTimeInData(banks)\n",
    "#     bills=processTimeInData(bills)\n",
    "#     browse=processTimeInData(browse)\n",
    "    \n",
    "    return users, banks, browse, bills, loanTimes, overdues\n",
    "\n",
    "# testUsers, testBanks, testBrowse, testBills, testLoanTime, _=readFiles(type='test')"
   ]
  },
  {
   "cell_type": "code",
   "execution_count": 26,
   "metadata": {
    "collapsed": false
   },
   "outputs": [],
   "source": [
    "trainUsers, trainBanks, trainBrowse, trainBills, trainLoanTime, trainOverdue=readFiles(type='train')"
   ]
  },
  {
   "cell_type": "code",
   "execution_count": 24,
   "metadata": {
    "collapsed": false
   },
   "outputs": [
    {
     "data": {
      "text/plain": [
       "0    5\n",
       "1    5\n",
       "2    5\n",
       "3    5\n",
       "4    5\n",
       "Name: year, dtype: int64"
      ]
     },
     "execution_count": 24,
     "metadata": {},
     "output_type": "execute_result"
    }
   ],
   "source": [
    "trainBanks.year.head()"
   ]
  },
  {
   "cell_type": "code",
   "execution_count": 31,
   "metadata": {
    "collapsed": false
   },
   "outputs": [
    {
     "data": {
      "text/plain": [
       "<matplotlib.axes._subplots.AxesSubplot at 0x7fe0072c52d0>"
      ]
     },
     "execution_count": 31,
     "metadata": {},
     "output_type": "execute_result"
    },
    {
     "data": {
      "image/png": "[encoded data removed]",
      "text/plain": [
       "<matplotlib.figure.Figure at 0x7fe052329210>"
      ]
     },
     "metadata": {},
     "output_type": "display_data"
    },
    {
     "data": {
      "image/png": "[encoded data removed]",
      "text/plain": [
       "<matplotlib.figure.Figure at 0x7fe0073e0550>"
      ]
     },
     "metadata": {},
     "output_type": "display_data"
    },
    {
     "data": {
      "image/png": "[encoded data removed]",
      "text/plain": [
       "<matplotlib.figure.Figure at 0x7fe00731fad0>"
      ]
     },
     "metadata": {},
     "output_type": "display_data"
    }
   ],
   "source": [
    "trainBanks[trainBanks['year']>0].year.hist()\n",
    "plt.figure()\n",
    "trainBills[trainBills['year']>0].year.hist()\n",
    "plt.figure()\n",
    "trainBrowse[trainBrowse['year']>0].year.hist()\n"
   ]
  },
  {
   "cell_type": "code",
   "execution_count": 8,
   "metadata": {
    "collapsed": false
   },
   "outputs": [],
   "source": [
    "# # process transaction amounts by converting back to real sum of money.  Have to guess the function\n",
    "\n",
    "# trialTrainBanks=trainBanks.copy()\n",
    "# fundConv=lambda x: 2*np.power((np.exp(x)-1),0.5)\n",
    "# trialTrainBanks['amount']=fundConv(trialTrainBanks['amount'])\n",
    "# print trialTrainBanks['amount'].head()"
   ]
  },
  {
   "cell_type": "code",
   "execution_count": 55,
   "metadata": {
    "collapsed": false
   },
   "outputs": [],
   "source": [
    "def extractBillFeatures(bills, n_ids):\n",
    "    # prepare a list of banks in the bills form\n",
    "    \n",
    "    bank_ids=bills['bank_id'].unique()\n",
    "    bankBills=dict() # keys are banks ids, and values are bills associated with that bank id.\n",
    "    for b_id in bank_ids:\n",
    "        bs=bills[bills.bank_id==b_id]\n",
    "        if len(bs)>=1:\n",
    "            bankBills[b_id]=bs\n",
    "            \n",
    "    # prepare bank-wise bill features\n",
    "    billFeatures=pd.DataFrame(np.arange(n_ids)+1, columns=['id'])\n",
    "    billFeatures.set_index(['id'], inplace=True)\n",
    "    for b_id in bankBills.keys():\n",
    "        bankBillName='bank'+str(b_id).zfill(6)\n",
    "        billFeatures[bankBillName+'AvgCreditLine']=bankBills[b_id].groupby('user_id')['credit_line'].mean()\n",
    "    #     billFeatures[bankBillName+'MaxCreditLine']=bankBills[b_id].groupby('user_id')['available_credit'].mean()\n",
    "    billFeatures.fillna(-1, inplace=True)\n",
    "    \n",
    "    return billFeatures\n",
    "\n"
   ]
  },
  {
   "cell_type": "code",
   "execution_count": 56,
   "metadata": {
    "collapsed": false
   },
   "outputs": [],
   "source": [
    "# def extractAfterLoanBillFeatures(bills, loanTimes, index):\n",
    "#     # prepare a list of banks in the bills form\n",
    "    \n",
    "#     bank_ids=bills['bank_id'].unique()\n",
    "#     billsAfter=bills[bills['time']>loanTimes.loc[bills['user_id'], 'time']]\n",
    "    \n",
    "#     bankBills=dict() # keys are banks ids, and values are bills associated with that bank id.\n",
    "#     for b_id in bank_ids:\n",
    "#         bs=billsAfter[billsAfter.bank_id==b_id]\n",
    "#         if len(bs)>=1:\n",
    "#             bankBills[b_id]=bs\n",
    "            \n",
    "#     # prepare bank-wise bill features\n",
    "#     billFeatures=pd.DataFrame(index, columns=['id'])\n",
    "#     billFeatures.set_index(['id'], inplace=True)\n",
    "#     for b_id in bankBills.keys():\n",
    "#         bankBillName='AfterLoanBank'+str(b_id).zfill(6)\n",
    "#         billFeatures[bankBillName+'AvgCreditLine']=bankBills[b_id].groupby('user_id')['credit_line'].mean()\n",
    "#     #     billFeatures[bankBillName+'MaxCreditLine']=bankBills[b_id].groupby('user_id')['available_credit'].mean()\n",
    "#     billFeatures.fillna(-1, inplace=True)\n",
    "    \n",
    "#     return billFeatures\n",
    "\n",
    "# # extractAfterLoanBillFeatures(trainBills, trainLoanTime, trainUsers.index)"
   ]
  },
  {
   "cell_type": "code",
   "execution_count": 57,
   "metadata": {
    "collapsed": false
   },
   "outputs": [],
   "source": [
    "def extractBrowseTypeFeatures(browse, n_ids):\n",
    "    # prepare browseType wise features:\n",
    "\n",
    "    browseType_ids=browse['browse_type'].unique()\n",
    "    browseTypes=dict()\n",
    "    for b_id in browseType_ids:\n",
    "        bs=browse[browse.browse_type==b_id]\n",
    "        if len(bs)>=1:\n",
    "            browseTypes[b_id]=bs\n",
    "\n",
    "    browseTypeFeatures=pd.DataFrame(np.arange(n_ids)+1, columns=['id'])\n",
    "    browseTypeFeatures.set_index(['id'], inplace=True)\n",
    "    for b_id in browseTypes.keys():\n",
    "        browseTypeName='browseType'+str(b_id).zfill(7)\n",
    "    #     browseTypeFeatures[browseTypeName+'TotalTimes']=browseTypes[b_id].groupby('user_id')['time'].count()\n",
    "        browseTypeFeatures[browseTypeName+'Freq']=browseTypes[b_id].groupby('user_id')['time'].count().div\\\n",
    "        (browseTypes[b_id].groupby('user_id')['time'].max()-browseTypes[b_id].groupby('user_id')['time'].min()+1+0.000001)\n",
    "    browseTypeFeatures.fillna(0, inplace=True)\n",
    "\n",
    "    return browseTypeFeatures\n"
   ]
  },
  {
   "cell_type": "code",
   "execution_count": 58,
   "metadata": {
    "collapsed": true
   },
   "outputs": [],
   "source": [
    "# add manually picked features to the working dataset\n",
    "\n",
    "def handPickedFeatures(users, banks, browse, bills, loanTimes):\n",
    "\n",
    "    handPickedFeatures=pd.DataFrame(np.arange(len(users))+1, columns=['id'])\n",
    "    handPickedFeatures.set_index(['id'], inplace=True)\n",
    "    \n",
    "    \n",
    "        \n",
    "    \n",
    "\n",
    "    # bank record features\n",
    "    bankRecordsPersonal=banks.groupby('user_id')\n",
    "    handPickedFeatures['transactionNum']=bankRecordsPersonal['amount'].count()\n",
    "    handPickedFeatures['transactionAmount']=bankRecordsPersonal['amount'].sum()\n",
    "    handPickedFeatures['transactionNetAmount']=bankRecordsPersonal.apply(lambda x: x[x['transaction_type']==1]['amount'].sum())-\\\n",
    "            bankRecordsPersonal.apply(lambda x: x[x['transaction_type']==0]['amount'].sum())\n",
    "    handPickedFeatures['transactionExpense']=bankRecordsPersonal.apply(lambda x: x[x['transaction_type']==1]['amount'].sum())\n",
    "    handPickedFeatures['transactionExpenseMax']=bankRecordsPersonal.apply(lambda x: x[x['transaction_type']==1]['amount'].max())\n",
    "    handPickedFeatures['transactionExpenseAvg']=bankRecordsPersonal.apply(lambda x: x[x['transaction_type']==1]['amount'].mean())\n",
    "    handPickedFeatures['transactionIncome']=bankRecordsPersonal.apply(lambda x: x[x['transaction_type']==0]['amount'].sum())\n",
    "    handPickedFeatures['transactionIncomeMax']=bankRecordsPersonal.apply(lambda x: x[x['transaction_type']==0]['amount'].max())\n",
    "    handPickedFeatures['transactionIncomeAvg']=bankRecordsPersonal.apply(lambda x: x[x['transaction_type']==0]['amount'].mean())\n",
    "    handPickedFeatures['transactionExpenseNum']=bankRecordsPersonal.apply(lambda x: x[x['transaction_type']==1]['amount'].count())\n",
    "    handPickedFeatures['transactionIncomeNum']=bankRecordsPersonal.apply(lambda x: x[x['transaction_type']==0]['amount'].count())\n",
    "    handPickedFeatures['salaryNum']=bankRecordsPersonal['is_salary'].sum()\n",
    "    handPickedFeatures['salaryTotal']=bankRecordsPersonal.apply(lambda x: x[x['is_salary']==1]['amount'].sum())\n",
    "    handPickedFeatures['salaryAvg']=bankRecordsPersonal.apply(lambda x: x[x['is_salary']==1]['amount'].mean())\n",
    "    handPickedFeatures['salaryMax']=bankRecordsPersonal.apply(lambda x: x[x['is_salary']==1]['amount'].max())\n",
    "\n",
    "\n",
    "    browseRecordsPersonal=browse.groupby('user_id')\n",
    "    handPickedFeatures['browseNum']=browseRecordsPersonal['time'].count()\n",
    "    handPickedFeatures['browseFreq']=(browseRecordsPersonal['time'].count()).div(browseRecordsPersonal['time'].max()-browseRecordsPersonal['time'].min()+1+0.000001)\n",
    "    handPickedFeatures['browseTypes']=browseRecordsPersonal['browse_type'].nunique()\n",
    "    handPickedFeatures['browseSubTypes']=browseRecordsPersonal.apply(lambda x: x.groupby('browse_type')['sub_type'].nunique().sum())\n",
    "\n",
    "\n",
    "    billsPersonal=bills.groupby('user_id')\n",
    "    handPickedFeatures['billBanksNum']=billsPersonal['bank_id'].nunique()\n",
    "    handPickedFeatures['billNum']=billsPersonal['time'].count()\n",
    "    handPickedFeatures['underpay']=billsPersonal.apply(lambda x: 1.0*sum(x['last_bill_amount']-x['last_bill_pay'])/len(x))\n",
    "    handPickedFeatures['avgCreditLine']=billsPersonal.apply(lambda x: x['credit_line'].mean())\n",
    "\n",
    "#     handPickedFeatures['avgCreditLine']=billsPersonal.apply(lambda x: x[x['credit_line']>0]['credit_line'].mean())\n",
    "    handPickedFeatures['avgTransactionNum']=billsPersonal['transactionNum'].mean()\n",
    "    handPickedFeatures['maxBankCredit_line']=billsPersonal.apply(lambda x: x.groupby('bank_id')['credit_line'].mean().max())\n",
    "    handPickedFeatures['avgLastBillAmount']=billsPersonal.apply(lambda x: x.groupby('bank_id')['last_bill_amount'].mean().mean())\n",
    "    handPickedFeatures['avgMaxLastBillAmount']=billsPersonal.apply(lambda x: x.groupby('bank_id')['last_bill_amount'].max().mean())\n",
    "    handPickedFeatures['relative_bill_adjustment']=(billsPersonal['cur_bill_amount'].mean()-billsPersonal['adjusted_amount'].mean()).div(billsPersonal['cur_bill_amount'].mean()+0.00001)\n",
    "    \n",
    "    \n",
    "    def timeSpan(x):\n",
    "        return x['time'].max()-x[x['time']>0]['time'].min()\n",
    "    \n",
    "#     def totalBankBillTimeSpan(x):\n",
    "#         newX=x[x['time']>0]\n",
    "#         byBank=newX.groupby('bank_id')\n",
    "#         return (byBank['time'].max()-byBank['time'].min()).sum()\n",
    "        \n",
    "    handPickedFeatures['avgBillTimeSpan']=billsPersonal.apply(timeSpan)\n",
    "    handPickedFeatures['maxBankBillTimeSpan']=billsPersonal.apply(lambda x: (x.groupby('bank_id')['time'].max()-x.groupby('bank_id')['time'].min()).max())\n",
    "    handPickedFeatures['totalBankBillTimeSpan']=billsPersonal.apply(lambda x: (x.groupby('bank_id')['time'].max()-x.groupby('bank_id')['time'].min()).sum())\n",
    "    handPickedFeatures['debtNum']=billsPersonal['debt_status'].mean()\n",
    "\n",
    "    \n",
    "    \n",
    "    handPickedFeatures['afterLoanBillFreq']=billsPersonal.apply(afterLoanBillFreq)\n",
    "    handPickedFeatures['afterLoanBillNum']=billsPersonal.apply(lambda x: x[x['time']>trainLoanTime.loc[x['user_id'].mean(),'time']]['time'].count())\n",
    "    handPickedFeatures['afterLoanUnderpay']=billsPersonal.apply(afterLoanUnderpay)\n",
    "    handPickedFeatures['afterLoanSalaryChange']=bankRecordsPersonal.apply(afterLoanSalaryChange)\n",
    "    handPickedFeatures['afterLoanBillTimeSpan']=billsPersonal.apply(lambda x: x['time'].max()-trainLoanTime.loc[x['user_id'].mean(),'time'])\n",
    "    handPickedFeatures['beforeLoanBillTimeSpan']=billsPersonal.apply(lambda x: trainLoanTime.loc[x['user_id'].mean(),'time']-x['time'].min())\n",
    "    handPickedFeatures['afterLoanBillAdjustment']=billsPersonal.apply(afterLoanBillAdjustment)\n",
    "    \n",
    "    \n",
    "    \n",
    "\n",
    "    handPickedFeatures['loanTime']=trainLoanTime['time']\n",
    "\n",
    "    return handPickedFeatures\n"
   ]
  },
  {
   "cell_type": "code",
   "execution_count": 59,
   "metadata": {
    "collapsed": false
   },
   "outputs": [],
   "source": [
    "# make a working dataset for training and testing\n",
    "trainUsers, trainBanks, trainBrowse, trainBills, trainLoanTime, trainOverdue=readFiles(type='train')"
   ]
  },
  {
   "cell_type": "code",
   "execution_count": 60,
   "metadata": {
    "collapsed": false
   },
   "outputs": [],
   "source": [
    "finalTime=trainBills['time'].max()+1\n",
    "startTime=trainBills['time'].min()-1\n",
    "def afterLoanBillFreq(x):\n",
    "    lt=trainLoanTime.loc[x['user_id'].mean(),'time']\n",
    "    return float(x[x['time']>lt]['time'].count())/float(finalTime-lt)\n",
    "\n",
    "# afterLoanBrowseFreq=afterLoanBillFreq\n",
    "\n",
    "def afterLoanSalaryChange(x):\n",
    "    lt=trainLoanTime.loc[x['user_id'].mean(),'time']\n",
    "    beforeSalary=x[(x['is_salary']==1) & (x['time']<=lt)]['amount'].mean()\n",
    "    afterSalary=x[(x['is_salary']==1) & (x['time']>lt)]['amount'].mean()\n",
    "#     if np.isnan(afterSalary) and ~np.isnan(beforeSalary):\n",
    "#         afterSalary=0\n",
    "#     if np.isnan(beforeSalary) and ~np.isnan(afterSalary):\n",
    "#         beforeSalary=0\n",
    "    return afterSalary-beforeSalary\n",
    "\n",
    "# def afterLoanNetIncome(x):\n",
    "#     lt=trainLoanTime.loc[x['user_id'].mean(),'time']\n",
    "#     income=x[(x['transaction_type']==0) & (x['time']>lt)]['amount'].sum()\n",
    "#     expense=x[(x['transaction_type']==1) & (x['time']>lt)]['amount'].sum()\n",
    "#     return income-expense\n",
    "\n",
    "# def afterLoanIncomeChange(x):\n",
    "#     lt=trainLoanTime.loc[x['user_id'].mean(),'time']\n",
    "#     beforeIncome=float(x[(x['transaction_type']==0) & (x['time']<=lt)]['amount'].sum())/float(lt-startTime)\n",
    "#     afterIncome=float(x[(x['transaction_type']==0) & (x['time']>lt)]['amount'].sum())/float(finalTime-lt)\n",
    "#     return afterIncome-beforeIncome\n",
    "\n",
    "# def loanBillFreqChange(x):\n",
    "#     lt=trainLoanTime.loc[x['user_id'].mean(),'time']\n",
    "#     beforeFreq=float(x[x['time']<=lt]['time'].count())/float(lt-startTime)\n",
    "#     afterFreq= float(x[x['time']>lt]['time'].count())/float(finalTime-lt)\n",
    "#     return afterFreq-beforeFreq\n",
    "# def newBanksAfterLoan(x):\n",
    "#     lt=trainLoanTime.loc[x['user_id'].mean(),'time']\n",
    "#     beforeBanks=set(x[x['time']<=lt]['bank_id'].unique())\n",
    "#     afterBanks=set(x[x['time']>lt]['bank_id'].unique())\n",
    "#     return len(afterBanks-beforeBanks)\n",
    "# def terminatedBanksAfterLoan(x):\n",
    "#     lt=trainLoanTime.loc[x['user_id'].mean(),'time']\n",
    "#     beforeBanks=set(x[x['time']<=lt]['bank_id'].unique())\n",
    "#     afterBanks=set(x[x['time']>lt]['bank_id'].unique())\n",
    "#     return len(beforeBanks-afterBanks)\n",
    "\n",
    "\n",
    "'relative_bill_adjustment'\n",
    "def afterLoanBillAdjustment(x):\n",
    "    lt=trainLoanTime.loc[x['user_id'].mean(),'time']\n",
    "    afterLoanX=x[x['time']<=lt]\n",
    "    return (afterLoanX['cur_bill_amount'].mean()-afterLoanX['adjusted_amount'].mean())/(afterLoanX['cur_bill_amount'].mean()+0.00001)\n",
    "\n",
    "def afterLoanUnderpay(x):\n",
    "    lt=trainLoanTime.loc[x['user_id'].mean(),'time']\n",
    "    afterX=x[x['time']>lt]\n",
    "    return (afterX['last_bill_amount']-afterX['last_bill_pay']).mean()\n"
   ]
  },
  {
   "cell_type": "code",
   "execution_count": 61,
   "metadata": {
    "collapsed": true
   },
   "outputs": [],
   "source": [
    "billFeatures=extractBillFeatures(trainBills, len(trainUsers))\n",
    "browseTypeFeatures=extractBrowseTypeFeatures(trainBrowse, len(trainUsers))\n",
    "\n",
    "# afterLoanBillFeatures=extractAfterLoanBillFeatures(trainBills, trainLoanTime, trainUsers.index)"
   ]
  },
  {
   "cell_type": "code",
   "execution_count": 62,
   "metadata": {
    "collapsed": false
   },
   "outputs": [],
   "source": [
    "madeFeatures=handPickedFeatures(trainUsers, trainBanks, trainBrowse, trainBills, trainLoanTime)\n",
    "\n",
    "userFeatures=trainUsers.join(billFeatures).join(browseTypeFeatures).join(madeFeatures)"
   ]
  },
  {
   "cell_type": "code",
   "execution_count": 63,
   "metadata": {
    "collapsed": false
   },
   "outputs": [],
   "source": [
    "# make one-hot encoding for categorical features\n",
    "def convert2Dummies(df, cln):\n",
    "    dummies=pd.get_dummies(df[cln]).astype(int)\n",
    "    dummies.columns=[cln+`c` for c in dummies.columns]\n",
    "\n",
    "    return pd.concat([df, dummies], axis=1)\n",
    "\n",
    "userFeatures=convert2Dummies(userFeatures, 'sex')\n",
    "userFeatures=convert2Dummies(userFeatures, 'profession')\n",
    "userFeatures=convert2Dummies(userFeatures, 'education')\n",
    "userFeatures=convert2Dummies(userFeatures, 'marriage')\n",
    "userFeatures=convert2Dummies(userFeatures, 'citizen_type')\n",
    "\n",
    "\n",
    "# fill in NA with zeros or other numbers\n",
    "\n",
    "userFeatures['transactionNum'].fillna(0, inplace=True)\n",
    "userFeatures['transactionNum']=userFeatures['transactionNum'].astype(int)\n",
    "\n",
    "\n",
    "userFeatures['salaryNum'].fillna(0, inplace=True)\n",
    "userFeatures['salaryNum']=userFeatures['salaryNum'].astype(int)\n",
    "\n",
    "# userFeatures['browseNum'].fillna(0, inplace=True)\n",
    "userFeatures['browseTypes'].fillna(0, inplace=True)\n",
    "userFeatures['browseTypes']=userFeatures['browseTypes'].astype(int)\n",
    "\n",
    "userFeatures['browseSubTypes'].fillna(0, inplace=True)\n",
    "userFeatures['browseSubTypes']=userFeatures['browseSubTypes'].astype(int)\n",
    "\n",
    "userFeatures['billBanksNum'].fillna(0, inplace=True)\n",
    "userFeatures['billBanksNum']=userFeatures['billBanksNum'].astype(int)\n",
    "\n",
    "userFeatures['billNum'].fillna(0, inplace=True)\n",
    "userFeatures['billNum']=userFeatures['billNum'].astype(int)\n",
    "\n",
    "userFeatures['salaryTotal'].fillna(0, inplace=True)\n",
    "userFeatures['transactionAmount'].fillna(0, inplace=True)\n",
    "\n",
    "\n",
    "\n",
    "\n",
    "# userFeatures['browseNum']=userFeatures['browseNum'].astype(int)"
   ]
  },
  {
   "cell_type": "code",
   "execution_count": 64,
   "metadata": {
    "collapsed": false
   },
   "outputs": [],
   "source": [
    "bankRecordsPersonal=trainBanks.groupby('user_id')\n",
    "billsPersonal=trainBills.groupby('user_id')\n",
    "browseRecordsPersonal=trainBrowse.groupby('user_id')"
   ]
  },
  {
   "cell_type": "code",
   "execution_count": 65,
   "metadata": {
    "collapsed": false
   },
   "outputs": [],
   "source": [
    "startOfRecords=trainBills[trainBills['time']>0]['time'].min()\n",
    "startYear=startOfRecords/365.2422\n"
   ]
  },
  {
   "cell_type": "code",
   "execution_count": 66,
   "metadata": {
    "collapsed": false
   },
   "outputs": [],
   "source": [
    "# userFeatures_select[:20, -1]\n",
    "# trainBills[trainBills['bank_id']==13]"
   ]
  },
  {
   "cell_type": "code",
   "execution_count": 67,
   "metadata": {
    "collapsed": false
   },
   "outputs": [],
   "source": [
    "def conseqSpendingAfterLoanWithCurBalance(x):\n",
    "    lt=trainLoanTime.loc[x['user_id'].mean(),'time']\n",
    "    newX=x[x['time']>lt]\n",
    "    return (newX['last_bill_amount']+newX['cur_bill_amount']+newX['cur_bill_balance']).mean()\n",
    "    \n",
    "def conseqSpending_3(x):\n",
    "    x=x.sort_values(by=['time'])\n",
    "    newX=x['last_bill_amount'].values\n",
    "    return (np.concatenate([newX,[0,0]])+np.concatenate([[0],newX,[0]])+np.concatenate([[0,0], newX])).max()\n",
    "\n",
    "# def conseqSpending_10(x):\n",
    "#     x=x.sort_values(by=['time'])\n",
    "#     newX=x['last_bill_amount'].values\n",
    "#     return np.array([newX[i:i+10].sum() for i in xrange(len(newX))]).max()\n",
    "\n",
    "\n",
    "\n",
    "# def bankAvgBill(x):\n",
    "#     return 1.0*x['last_bill_amount'].sum()/x['bank_id'].nunique()\n",
    "\n",
    "# 这个没有用，因为其实已经包含在平均的信用额度上\n",
    "# userBankBills=trainBills.groupby(['user_id', 'bank_id'])\n",
    "# ubMean=userBankBills['last_bill_amount'].mean()\n",
    "# inActiveRate=1.0*(ubMean==0).sum()/len(ubMean)\n",
    "# def inActiveCards(x):\n",
    "  \n",
    "#     xBanks=x.groupby('bank_id')\n",
    "#     bankBillAvg=xBanks['last_bill_amount'].mean()\n",
    "#     inActiveNum=(bankBillAvg==0).sum()\n",
    "#     activeNum=len(bankBillAvg)-inActiveNum\n",
    "# #     personalInactiveRate=1.0*inActiveNum/len(bankBillAvg)\n",
    "# #     natureProb=(1-binom(len(bankBillAvg), inActiveNum)*(inActiveRate**inActiveNum)*((1-inActiveRate)**activeNum))*\\\n",
    "# #     (1 if personalInactiveRate>=inActiveRate else -1)\n",
    "#     return 1.0*inActiveNum/len(bankBillAvg)\n",
    "\n",
    "def abuse(x):\n",
    "    x=x[x['credit_line']>0]\n",
    "    return (1.0*x['last_bill_amount'].div(x['credit_line']+0.1)).mean()\n"
   ]
  },
  {
   "cell_type": "code",
   "execution_count": 46,
   "metadata": {
    "collapsed": false
   },
   "outputs": [
    {
     "data": {
      "text/plain": [
       "user_id\n",
       "2     0.735065\n",
       "3     0.994851\n",
       "4     0.460771\n",
       "5     0.995897\n",
       "6     0.925998\n",
       "7     0.471945\n",
       "8     0.000000\n",
       "9     0.779951\n",
       "10    0.711455\n",
       "11    0.810575\n",
       "dtype: float64"
      ]
     },
     "execution_count": 46,
     "metadata": {},
     "output_type": "execute_result"
    }
   ],
   "source": [
    "billsPersonal.apply(abuse).head(10)"
   ]
  },
  {
   "cell_type": "code",
   "execution_count": 68,
   "metadata": {
    "collapsed": true
   },
   "outputs": [],
   "source": [
    "userFeatures['afterLoanConseqSpendingWithCurBalance']=billsPersonal.apply(conseqSpendingAfterLoanWithCurBalance)\n",
    "\n",
    "userFeatures['conseqSpending3Max']=billsPersonal.apply(conseqSpending_3)\n"
   ]
  },
  {
   "cell_type": "code",
   "execution_count": 69,
   "metadata": {
    "collapsed": false
   },
   "outputs": [],
   "source": [
    "\n",
    "# place to make addition change to the working dataset, without poluting the data\n",
    "\n",
    "userFeatures_select=userFeatures.copy()\n",
    "\n",
    "# userFeatures_select['conseqSpending']=billsPersonal.apply(lambda x: (x['last_bill_amount']+x['cur_bill_amount']).mean())\n",
    "\n",
    "# userFeatures_select['bankAvgBill']=billsPersonal.apply(bankAvgBill)\n",
    "\n",
    "\n",
    "# userFeatures_select['billUnknownTime']=billsPersonal.apply(lambda x: x[x['time']==0]['time'].count())\n",
    "\n",
    "\n",
    "# userFeatures_select['abuse']=billsPersonal.apply(abuse)\n",
    "\n",
    "\n",
    "# userFeatures_select['conseqSpending_10Max']=billsPersonal.apply(conseqSpending_10)\n",
    "\n",
    "# userFeatures_select['negativeBalance']=billsPersonal.apply(lambda x: (x['cur_bill_balance'].div(x['transactionNum']+0.01)).mean())\n",
    "\n",
    "# userFeatures_select['numNewBanksAfterLoan']=billsPersonal.apply(newBanksAfterLoan)\n",
    "# userFeatures_select['numTerminatedBanksAfterLoan']=billsPersonal.apply(terminatedBanksAfterLoan)\n",
    "\n",
    "# userFeatures_select['crossLoanBillBankNum']=billsPersonal.apply(lambda x: x[x['time']>trainLoanTime.loc[x['user_id'].mean(),'time']]['bank_id'].nunique())-billsPersonal.apply(lambda x: x[x['time']<=trainLoanTime.loc[x['user_id'].mean(),'time']]['bank_id'].nunique())\n",
    "\n",
    "# userFeatures_select['afterLoanBillTotalBankTimeSpan']=billsPersonal.apply(lambda x: x[x['time']>trainLoanTime.loc[x['user_id'].mean(),'time']].groupby('bank_id')['time'].max().max())\n",
    "                                                                     \n",
    "# userFeatures_select['crossLoanBillTimeSpanDiff']=1.0*userFeatures_select['afterLoanBillTimeSpan'].div(userFeatures_select['beforeLoanBillTimeSpan']+1)\n",
    "\n",
    "# userFeatures_select['afterLoanAvgTransactionNum']=billsPersonal.apply(lambda x:x[(x['time']>\\\n",
    "#         trainLoanTime.loc[x['user_id'].mean(),'time'])]['transactionNum'].mean())\n",
    "# userFeatures_select['afterLoanCreditLine']=billsPersonal.apply(lambda x:x[(x['time']>\\\n",
    "#         trainLoanTime.loc[x['user_id'].mean(),'time'])]['credit_line'].mean())-\\\n",
    "#         billsPersonal.apply(lambda x:x[(x['time']<=\\\n",
    "#         trainLoanTime.loc[x['user_id'].mean(),'time'])]['credit_line'].mean())\n",
    "                            \n",
    "                            \n",
    "                            \n",
    "# userFeatures_select['afterLoanNetIncome']=bankRecordsPersonal.apply(afterLoanNetIncome)\n",
    "\n",
    "# userFeatures_select['afterLoanIncomeChange']=bankRecordsPersonal.apply(afterLoanIncomeChange)\n",
    "\n",
    "\n",
    "\n",
    "\n",
    "# userFeatures_select['afterLoanSalary']=bankRecordsPersonal.apply(lambda x:x[(x['time']>\\\n",
    "#         trainLoanTime.loc[x['user_id'].mean(),'time']) & x['is_salary']==1]['amount'].mean())\n",
    "\n",
    "\n",
    "# userFeatures_select['loanBillFreqChange']=billsPersonal.apply(loanBillFreqChange)\n",
    "\n",
    "\n",
    "# temporary feature testing cells\n",
    "# userFeatures_select['try']=billsPersonal.apply(lambda x: (x.groupby('bank_id')['cur_bill_amount'].mean()-\\\n",
    "#             x.groupby('bank_id')['adjusted_amount'].mean()).div(x.groupby('bank_id')['cur_bill_amount'].mean()+0.000001).mean())\n",
    "\n",
    "\n",
    "# userFeatures_select['afterLoanBillNum'].fillna(0, inplace=True)\n",
    "# userFeatures_select['afterLoanBillNum']=userFeatures_select['afterLoanBillNum'].astype(int)\n",
    "\n",
    "\n",
    "\n",
    "#userFeatures_select['try']=bills.apply(lambda x: x.groupby('bank_id')['cur_bill_amount'].mean().mean())\n",
    "#userFeatures_select['try']=bills.apply(lambda x: x.groupby('bank_id')['cumulative_interest'].mean().max())\n",
    "\n",
    "#userFeatures_select['try']=bills.apply(lambda x: x.groupby('bank_id')['cur_bill_min_due'].mean().mean())\n",
    "#userFeatures_select['nonSalary']=bankRecordsPersonal.apply(\\\n",
    "#     lambda x: x[(x['is_salary']==0) & (x['transaction_type']==0)]['amount']/ \\\n",
    "#     x[(x['is_salary']==1)]['amount'])\n",
    "# print userFeatures_select[['try', 'billNum']].head(20)"
   ]
  },
  {
   "cell_type": "code",
   "execution_count": 70,
   "metadata": {
    "collapsed": false
   },
   "outputs": [],
   "source": [
    "imp=Imputer(missing_values='NaN', strategy='most_frequent', axis=0)\n",
    "userFeatures_select=imp.fit_transform(userFeatures_select)\n",
    "\n",
    "# print userFeatures_select.head()"
   ]
  },
  {
   "cell_type": "code",
   "execution_count": 71,
   "metadata": {
    "collapsed": true
   },
   "outputs": [],
   "source": [
    "# split to training and testing sets\n",
    "nTrain=int(0.8*len(userFeatures_select))\n",
    "X_train=userFeatures_select[:nTrain]\n",
    "y_train=trainOverdue[:nTrain]\n",
    "\n",
    "X_test=userFeatures_select[nTrain:]\n",
    "y_test=trainOverdue[nTrain:]\n",
    "\n",
    "# make a data weight list for random forests to handle uneven distribution\n",
    "weights=y_train+0.3\n",
    "\n",
    "\n",
    "# standardization\n",
    "scaler=StandardScaler()\n",
    "scaler.fit(userFeatures_select)\n",
    "X_train=scaler.transform(X_train)\n",
    "X_test=scaler.transform(X_test)\n",
    "\n",
    "# compute the correlation between variants and labels\n",
    "# corrmatrix=np.corrcoef(userFeatures_select.T, trainOverdue)\n",
    "corrmatrix=np.corrcoef(X_train.T, y_train)"
   ]
  },
  {
   "cell_type": "code",
   "execution_count": null,
   "metadata": {
    "collapsed": false
   },
   "outputs": [],
   "source": [
    "# # compute relative importance of features\n",
    "# factors=abs(np.array(corrmatrix[-1, :-1]))**1.5\n",
    "# for i in xrange(2):\n",
    "#     factors=normalize(factors.reshape(1,-1))\n",
    "#     factors*=abs(corrmatrix[-1, :-1])\n",
    "\n",
    "# # scale features according to their lative importance\n",
    "# X_train*=factors\n",
    "# X_test*=factors"
   ]
  },
  {
   "cell_type": "code",
   "execution_count": null,
   "metadata": {
    "collapsed": false
   },
   "outputs": [],
   "source": []
  },
  {
   "cell_type": "code",
   "execution_count": null,
   "metadata": {
    "collapsed": false
   },
   "outputs": [
    {
     "name": "stdout",
     "output_type": "stream",
     "text": [
      "295\n",
      "0.133992805755\n",
      "1490\n",
      "5693\n",
      "0.10067114094\n",
      "Ks_2sampResult(statistic=0.45662185424463536, pvalue=1.0224270875133227e-235)\n"
     ]
    }
   ],
   "source": [
    "clf_xgb=XGBClassifier(learning_rate=0.04, n_estimators=1200, subsample=0.9, colsample_bylevel=0.9, objective='binary:logistic', \\\n",
    "                      max_depth=5, gamma=2, seed=0)\n",
    "clf_xgb.fit(X_train, y_train)\n",
    "pred = clf_xgb.predict_proba(X_test)[:,1]\n",
    "print len(pred[pred>0.5])\n",
    "print 1.0*sum(y_test)/len(y_test)\n",
    "print sum(y_test)\n",
    "print sum(y_train)\n",
    "print 1.0*len(pred[(pred>0.5)&(y_test==1)])/sum(y_test==1)\n",
    "\n",
    "p=pred[y_test==1]\n",
    "n=pred[y_test==0]\n",
    "print ks_2samp(p,n)"
   ]
  },
  {
   "cell_type": "raw",
   "metadata": {
    "collapsed": false
   },
   "source": []
  },
  {
   "cell_type": "code",
   "execution_count": 274,
   "metadata": {
    "collapsed": false
   },
   "outputs": [
    {
     "name": "stdout",
     "output_type": "stream",
     "text": [
      "189\n",
      "0.133992805755\n",
      "1490\n",
      "5693\n",
      "0.0436241610738\n",
      "Ks_2sampResult(statistic=0.19841797514757431, pvalue=7.4686502565804262e-45)\n"
     ]
    }
   ],
   "source": [
    "# nearest neighbors\n",
    "knnc = KNeighborsClassifier(n_neighbors=10, weights='distance')\n",
    "knnc.fit(X_train, y_train)\n",
    "pred=knnc.predict_proba(X_test)[:,1]\n",
    "print len(pred[pred>0.5])\n",
    "print 1.0*sum(y_test)/len(y_test)\n",
    "print sum(y_test)\n",
    "print sum(y_train)\n",
    "print 1.0*len(pred[(pred>0.5)&(y_test==1)])/sum(y_test==1)\n",
    "\n",
    "p=pred[y_test==1]\n",
    "n=pred[y_test==0]\n",
    "print ks_2samp(p,n)"
   ]
  },
  {
   "cell_type": "code",
   "execution_count": 228,
   "metadata": {
    "collapsed": false
   },
   "outputs": [
    {
     "name": "stdout",
     "output_type": "stream",
     "text": [
      "278\n",
      "0.133992805755\n",
      "1490\n",
      "5693\n",
      "0.0832214765101\n",
      "Ks_2sampResult(statistic=0.44683629875877257, pvalue=9.6898195910356663e-226)\n"
     ]
    }
   ],
   "source": [
    "# random forest classifier\n",
    "clf_rf=rfc(n_estimators=1200, max_features=8*int(np.sqrt(X_train.shape[1])), max_depth=None, n_jobs=7, min_samples_split=16, random_state=0)\n",
    "clf_rf.fit(X_train, y_train, sample_weight=weights)\n",
    "pred=clf_rf.predict_proba(X_test)[:,1]\n",
    "print len(pred[pred>0.5])\n",
    "print 1.0*sum(y_test)/len(y_test)\n",
    "print sum(y_test)\n",
    "print sum(y_train)\n",
    "print 1.0*len(pred[(pred>0.5)&(y_test==1)])/sum(y_test==1)\n",
    "\n",
    "p=pred[y_test==1]\n",
    "n=pred[y_test==0]\n",
    "print ks_2samp(p,n)"
   ]
  },
  {
   "cell_type": "code",
   "execution_count": null,
   "metadata": {
    "collapsed": false
   },
   "outputs": [],
   "source": []
  },
  {
   "cell_type": "code",
   "execution_count": null,
   "metadata": {
    "collapsed": true
   },
   "outputs": [],
   "source": []
  },
  {
   "cell_type": "code",
   "execution_count": null,
   "metadata": {
    "collapsed": true
   },
   "outputs": [],
   "source": []
  },
  {
   "cell_type": "code",
   "execution_count": null,
   "metadata": {
    "collapsed": true
   },
   "outputs": [],
   "source": []
  },
  {
   "cell_type": "code",
   "execution_count": null,
   "metadata": {
    "collapsed": false
   },
   "outputs": [],
   "source": []
  },
  {
   "cell_type": "code",
   "execution_count": null,
   "metadata": {
    "collapsed": true
   },
   "outputs": [],
   "source": []
  },
  {
   "cell_type": "code",
   "execution_count": null,
   "metadata": {
    "collapsed": true
   },
   "outputs": [],
   "source": []
  },
  {
   "cell_type": "code",
   "execution_count": null,
   "metadata": {
    "collapsed": true
   },
   "outputs": [],
   "source": []
  }
 ],
 "metadata": {
  "kernelspec": {
   "display_name": "Python 2",
   "language": "python",
   "name": "python2"
  },
  "language_info": {
   "codemirror_mode": {
    "name": "ipython",
    "version": 2
   },
   "file_extension": ".py",
   "mimetype": "text/x-python",
   "name": "python",
   "nbconvert_exporter": "python",
   "pygments_lexer": "ipython2",
   "version": "2.7.12"
  }
 },
 "nbformat": 4,
 "nbformat_minor": 0
}
