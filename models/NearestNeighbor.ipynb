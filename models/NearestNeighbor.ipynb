{
 "cells": [
  {
   "cell_type": "code",
   "execution_count": 7,
   "metadata": {
    "collapsed": false
   },
   "outputs": [],
   "source": [
    "import pandas as pd\n",
    "import numpy as np\n",
    "from sklearn.model_selection import train_test_split\n",
    "from sklearn.model_selection import cross_val_score\n",
    "from sklearn.preprocessing import StandardScaler\n",
    "from sklearn.preprocessing import Imputer\n",
    "from sklearn.preprocessing import normalize\n",
    "\n",
    "from sklearn.neighbors import NearestNeighbors\n",
    "from sklearn.neighbors import KNeighborsClassifier\n",
    "\n",
    "from scipy.stats import ks_2samp\n",
    "\n",
    "from matplotlib import pyplot as plt\n",
    "%matplotlib inline\n",
    "\n",
    "inputFolder='../data/'\n",
    "trainFolder=inputFolder+'train/'\n",
    "testFolder=inputFolder+'test/'"
   ]
  },
  {
   "cell_type": "code",
   "execution_count": 399,
   "metadata": {
    "collapsed": false
   },
   "outputs": [],
   "source": [
    "trainUsers=pd.read_csv(trainFolder+'user_info_train.txt', \\\n",
    "                           names=['id','sex','profession','education','marriage','citizen_type'],\\\n",
    "                          index_col=0)\n",
    "\n",
    "trainBanks=pd.read_csv(trainFolder+'bank_detail_train.txt',\\\n",
    "                          names=['user_id', 'time', 'transaction_type', 'amount', 'is_salary'])\n",
    "\n",
    "trainBrowse=pd.read_csv(trainFolder+'browse_history_train.txt',\\\n",
    "                           names=['user_id', 'time', 'browse_type', 'sub_type'])\n",
    "\n",
    "trainBills=pd.read_csv(trainFolder+'bill_detail_train.txt',\\\n",
    "                          names=['user_id', 'time', 'bank_id', 'last_bill_amount', 'last_bill_pay', 'credit_line',\\\n",
    "                                 'cur_bill_balance', 'cur_bill_min_due', 'transactionNum', 'cur_bill_amount', \\\n",
    "                                 'adjusted_amount', 'cumulative_interest', 'available_deposit', 'available_credit', 'debt_status'])\n",
    "\n",
    "trainLoanTime=pd.read_csv(trainFolder+'loan_time_train.txt',\\\n",
    "                                names=['user_id', 'time'])\n",
    "\n",
    "trainOverdue=pd.read_csv(trainFolder+'overdue_train.txt',\\\n",
    "                            names=['user_id', 'label'], index_col=0)"
   ]
  },
  {
   "cell_type": "code",
   "execution_count": 9,
   "metadata": {
    "collapsed": false
   },
   "outputs": [
    {
     "name": "stdout",
     "output_type": "stream",
     "text": [
      "\n"
     ]
    }
   ],
   "source": [
    "print "
   ]
  },
  {
   "cell_type": "code",
   "execution_count": 1151,
   "metadata": {
    "collapsed": false
   },
   "outputs": [],
   "source": [
    "userFeatures=trainUsers.copy()\n",
    "\n",
    "bankRecordsPersonal=trainBanks.groupby('user_id')\n",
    "\n",
    "userFeatures['transactionNum']=bankRecordsPersonal['amount'].count()\n",
    "userFeatures['transactionAmount']=bankRecordsPersonal['amount'].sum()\n",
    "\n",
    "# got worse\n",
    "# userFeatures['transactionNetAmount']=bankRecordsPersonal.apply(lambda x: x[x['transaction_type']==1]['amount'].sum())-\\\n",
    "#         bankRecordsPersonal.apply(lambda x: x[x['transaction_type']==0]['amount'].sum())\n",
    "# userFeatures['transactionTimeSpan']=bankRecordsPersonal['time'].max()-bankRecordsPersonal['time'].min()\n",
    "\n",
    "userFeatures['transactionExpense']=bankRecordsPersonal.apply(lambda x: x[x['transaction_type']==1]['amount'].sum())\n",
    "userFeatures['transactionExpenseMax']=bankRecordsPersonal.apply(lambda x: x[x['transaction_type']==1]['amount'].max())\n",
    "userFeatures['transactionExpenseAvg']=bankRecordsPersonal.apply(lambda x: x[x['transaction_type']==1]['amount'].mean())\n",
    "\n",
    "userFeatures['transactionIncome']=bankRecordsPersonal.apply(lambda x: x[x['transaction_type']==0]['amount'].sum())\n",
    "# not useful\n",
    "# userFeatures['transactionIncomeMax']=bankRecordsPersonal.apply(lambda x: x[x['transaction_type']==0]['amount'].max())\n",
    "# userFeatures['transactionIncomeAvg']=bankRecordsPersonal.apply(lambda x: x[x['transaction_type']==0]['amount'].mean())\n",
    "\n",
    "userFeatures['transactionExpenseNum']=bankRecordsPersonal.apply(lambda x: x[x['transaction_type']==1]['amount'].count())\n",
    "userFeatures['transactionIncomeNum']=bankRecordsPersonal.apply(lambda x: x[x['transaction_type']==0]['amount'].count())\n",
    "userFeatures['salaryNum']=bankRecordsPersonal['is_salary'].sum()\n",
    "userFeatures['salaryTotal']=bankRecordsPersonal.apply(lambda x: x[x['is_salary']==1]['amount'].sum())\n",
    "userFeatures['salaryAvg']=bankRecordsPersonal.apply(lambda x: x[x['is_salary']==1]['amount'].mean())\n",
    "userFeatures['salaryMax']=bankRecordsPersonal.apply(lambda x: x[x['is_salary']==1]['amount'].max())\n",
    "\n",
    "# userFeatures['salaryAvg']=\n",
    "\n",
    "browseRecordsPersonal=trainBrowse.groupby('user_id')\n",
    "userFeatures['browseNum']=browseRecordsPersonal['time'].count()\n",
    "userFeatures['browseTypes']=browseRecordsPersonal['browse_type'].nunique()\n",
    "userFeatures['browseSubTypes']=browseRecordsPersonal.apply(lambda x: x.groupby('browse_type')['sub_type'].nunique().sum())\n",
    "\n",
    "\n",
    "bills=trainBills.groupby('user_id')\n",
    "userFeatures['billBanksNum']=bills['bank_id'].nunique()\n",
    "userFeatures['billNum']=bills['time'].count()\n",
    "\n",
    "userFeatures['avgCreditLine']=bills['credit_line'].mean()\n",
    "userFeatures['avgTransactionNum']=bills['transactionNum'].mean()\n",
    "userFeatures['maxBankCredit_line']=bills.apply(lambda x: x.groupby('bank_id')['credit_line'].mean().max())\n",
    "# userFeatures['loanTime']=trainLoanTime['time']"
   ]
  },
  {
   "cell_type": "code",
   "execution_count": 1135,
   "metadata": {
    "collapsed": false
   },
   "outputs": [
    {
     "name": "stdout",
     "output_type": "stream",
     "text": [
      "             try  billNum\n",
      "id                       \n",
      "3150    0.000000     38.0\n",
      "6965   15.753222      4.0\n",
      "1265   10.749081     54.0\n",
      "6360   16.326643    141.0\n",
      "2583   14.786282     24.0\n",
      "34764   0.000000     18.0\n",
      "9554   18.655617     17.0\n",
      "6720    0.000000      2.0\n",
      "29165   0.000000      3.0\n",
      "6966   14.371964    227.0\n",
      "35421  12.567130     54.0\n",
      "27162   0.000000      1.0\n",
      "2443   15.923561    159.0\n",
      "19579   0.000000    309.0\n",
      "590     0.000000     11.0\n",
      "42390  10.772794    104.0\n",
      "43106  16.035878    143.0\n",
      "12994   0.000000     32.0\n",
      "10313   0.000000     18.0\n",
      "26702   0.000000      8.0\n"
     ]
    }
   ],
   "source": [
    "# userFeatures['try']=bills.apply(lambda x: 1.0*sum(x['last_bill_amount']-x['last_bill_pay'])/len(x))\n",
    "# userFeatures['try']=bills.apply(lambda x: x.groupby('bank_id')['last_bill_amount'].mean().min())\n",
    "# userFeatures['try']=bills.apply(lambda x: x.groupby('bank_id')['cumulative_interest'].mean().max())\n",
    "\n",
    "print userFeatures[['try', 'billNum']].head(20)"
   ]
  },
  {
   "cell_type": "code",
   "execution_count": 1152,
   "metadata": {
    "collapsed": false
   },
   "outputs": [
    {
     "name": "stdout",
     "output_type": "stream",
     "text": [
      "      sex  profession  education  marriage  citizen_type  transactionNum  \\\n",
      "id                                                                         \n",
      "3150    1           2          4         1             4               0   \n",
      "6965    1           2          4         3             2             364   \n",
      "1265    1           3          4         3             1             419   \n",
      "6360    1           2          4         3             2               0   \n",
      "2583    2           2          2         1             1             831   \n",
      "\n",
      "      transactionAmount  transactionExpense  transactionExpenseMax  \\\n",
      "id                                                                   \n",
      "3150           0.000000                 NaN                    NaN   \n",
      "6965        4207.382203         3234.531975              15.366101   \n",
      "1265        5370.663258         3662.457063              18.256472   \n",
      "6360           0.000000                 NaN                    NaN   \n",
      "2583        9800.785996         7064.310678              16.059248   \n",
      "\n",
      "      transactionExpenseAvg         ...          salaryAvg  salaryMax  \\\n",
      "id                                  ...                                 \n",
      "3150                    NaN         ...                NaN        NaN   \n",
      "6965              11.192152         ...                NaN        NaN   \n",
      "1265              12.457337         ...                NaN        NaN   \n",
      "6360                    NaN         ...                NaN        NaN   \n",
      "2583              11.430923         ...                NaN        NaN   \n",
      "\n",
      "      browseNum  browseTypes  browseSubTypes  billBanksNum  billNum  \\\n",
      "id                                                                    \n",
      "3150        NaN            0               0             5       38   \n",
      "6965     1710.0           39              39             2        4   \n",
      "1265      420.0           17              17             2       54   \n",
      "6360      225.0            9               9             8      141   \n",
      "2583      702.0           20              20             3       24   \n",
      "\n",
      "      avgCreditLine  avgTransactionNum  maxBankCredit_line  \n",
      "id                                                          \n",
      "3150      14.181718           0.736842           21.641482  \n",
      "6965      19.971271          10.750000           19.971271  \n",
      "1265      19.973385           1.444444           20.153592  \n",
      "6360      16.992500           1.666667           22.115024  \n",
      "2583      18.307126           1.791667           21.069883  \n",
      "\n",
      "[5 rows x 25 columns]\n"
     ]
    }
   ],
   "source": [
    "userFeatures['transactionNum'].fillna(0, inplace=True)\n",
    "userFeatures['transactionNum']=userFeatures['transactionNum'].astype(int)\n",
    "\n",
    "\n",
    "userFeatures['salaryNum'].fillna(0, inplace=True)\n",
    "userFeatures['salaryNum']=userFeatures['salaryNum'].astype(int)\n",
    "\n",
    "# userFeatures['browseNum'].fillna(0, inplace=True)\n",
    "userFeatures['browseTypes'].fillna(0, inplace=True)\n",
    "userFeatures['browseTypes']=userFeatures['browseTypes'].astype(int)\n",
    "\n",
    "userFeatures['browseSubTypes'].fillna(0, inplace=True)\n",
    "userFeatures['browseSubTypes']=userFeatures['browseSubTypes'].astype(int)\n",
    "\n",
    "userFeatures['billBanksNum'].fillna(0, inplace=True)\n",
    "userFeatures['billBanksNum']=userFeatures['billBanksNum'].astype(int)\n",
    "\n",
    "userFeatures['billNum'].fillna(0, inplace=True)\n",
    "userFeatures['billNum']=userFeatures['billNum'].astype(int)\n",
    "\n",
    "userFeatures['salaryTotal'].fillna(0, inplace=True)\n",
    "userFeatures['transactionAmount'].fillna(0, inplace=True)\n",
    "# userFeatures['browseNum']=userFeatures['browseNum'].astype(int)\n",
    "\n",
    "\n",
    "\n",
    "\n",
    "\n",
    "print userFeatures.head()"
   ]
  },
  {
   "cell_type": "code",
   "execution_count": 1153,
   "metadata": {
    "collapsed": false
   },
   "outputs": [],
   "source": [
    "userFeatures.sort_index(inplace=True)\n",
    "trainOverdue.sort_index(inplace=True)"
   ]
  },
  {
   "cell_type": "code",
   "execution_count": 1154,
   "metadata": {
    "collapsed": true
   },
   "outputs": [],
   "source": [
    "def convert2Dummies(df, cln):\n",
    "    dummies=pd.get_dummies(df[cln]).astype(int)\n",
    "    dummies.columns=[cln+`c` for c in dummies.columns]\n",
    "\n",
    "    return pd.concat([df, dummies], axis=1)"
   ]
  },
  {
   "cell_type": "code",
   "execution_count": 1155,
   "metadata": {
    "collapsed": false
   },
   "outputs": [],
   "source": [
    "userFeatures=convert2Dummies(userFeatures, 'sex')\n",
    "userFeatures=convert2Dummies(userFeatures, 'profession')\n",
    "userFeatures=convert2Dummies(userFeatures, 'education')\n",
    "userFeatures=convert2Dummies(userFeatures, 'marriage')\n",
    "userFeatures=convert2Dummies(userFeatures, 'citizen_type')\n"
   ]
  },
  {
   "cell_type": "code",
   "execution_count": 1156,
   "metadata": {
    "collapsed": false
   },
   "outputs": [],
   "source": [
    "# overdueAmount=userFeatures['transactionAmount'].values[trainOverdue.values.ravel()==1]\n",
    "# plt.hist(overdueAmount, bins=20)\n",
    "# plt.figure()\n",
    "# plt.hist(userFeatures['transactionAmount'].values, bins=20)"
   ]
  },
  {
   "cell_type": "code",
   "execution_count": 1157,
   "metadata": {
    "collapsed": false
   },
   "outputs": [
    {
     "name": "stdout",
     "output_type": "stream",
     "text": [
      "    sex  profession  education  marriage  citizen_type  transactionNum  \\\n",
      "id                                                                       \n",
      "1     1           2          3         1             3              86   \n",
      "2     1           2          3         2             1               0   \n",
      "3     1           4          4         1             4             679   \n",
      "4     1           4          4         3             2             291   \n",
      "5     1           2          2         3             1               0   \n",
      "\n",
      "    transactionAmount  transactionExpense  transactionExpenseMax  \\\n",
      "id                                                                 \n",
      "1         1156.718031          676.025269              17.157860   \n",
      "2            0.000000                 NaN                    NaN   \n",
      "3         7264.831053         4985.957607              15.142957   \n",
      "4         3293.768106         2129.425722              15.142957   \n",
      "5            0.000000                 NaN                    NaN   \n",
      "\n",
      "    transactionExpenseAvg      ...        marriage1  marriage2  marriage3  \\\n",
      "id                             ...                                          \n",
      "1               13.255397      ...                1          0          0   \n",
      "2                     NaN      ...                0          1          0   \n",
      "3                9.834236      ...                1          0          0   \n",
      "4               10.920132      ...                0          0          1   \n",
      "5                     NaN      ...                0          0          1   \n",
      "\n",
      "    marriage4  marriage5  citizen_type0  citizen_type1  citizen_type2  \\\n",
      "id                                                                      \n",
      "1           0          0              0              0              0   \n",
      "2           0          0              0              1              0   \n",
      "3           0          0              0              0              0   \n",
      "4           0          0              0              0              1   \n",
      "5           0          0              0              1              0   \n",
      "\n",
      "    citizen_type3  citizen_type4  \n",
      "id                                \n",
      "1               1              0  \n",
      "2               0              0  \n",
      "3               0              1  \n",
      "4               0              0  \n",
      "5               0              0  \n",
      "\n",
      "[5 rows x 49 columns]\n"
     ]
    }
   ],
   "source": [
    "print userFeatures.head()"
   ]
  },
  {
   "cell_type": "code",
   "execution_count": 1158,
   "metadata": {
    "collapsed": false
   },
   "outputs": [],
   "source": [
    "userFeatures_select=userFeatures.copy()"
   ]
  },
  {
   "cell_type": "code",
   "execution_count": 1159,
   "metadata": {
    "collapsed": false
   },
   "outputs": [],
   "source": [
    "X=userFeatures_select.values\n",
    "imp=Imputer(missing_values='NaN', strategy='most_frequent', axis=0)\n",
    "X=imp.fit_transform(X)\n",
    "y=trainOverdue.values.ravel()"
   ]
  },
  {
   "cell_type": "code",
   "execution_count": 1160,
   "metadata": {
    "collapsed": false
   },
   "outputs": [
    {
     "name": "stdout",
     "output_type": "stream",
     "text": [
      "[-0.09984565  0.00826746  0.03870428  0.00396767  0.01066433  0.02240804\n",
      "  0.01833539  0.01928639 -0.052578    0.02922111  0.01526059  0.01430856\n",
      "  0.00833712 -0.00175276 -0.00548025 -0.01266307 -0.01799713 -0.02566857\n",
      "  0.01834179  0.01834026 -0.07649229 -0.05819992 -0.03415144  0.01075614\n",
      " -0.02471834  0.13775726 -0.01059447 -0.05074661  0.01815592  0.00654069\n",
      " -0.01376585 -0.00278987  0.0146259   0.01804614 -0.00943854 -0.0422042\n",
      " -0.00684591  0.03592918  0.01793669 -0.00793756  0.00428987 -0.00054338\n",
      "  0.00666468  0.01036003  0.01804614 -0.02056155  0.01613081 -0.01261837\n",
      "  0.01202309]\n"
     ]
    }
   ],
   "source": [
    "corrmatrix=np.corrcoef(X.T, y)\n",
    "print corrmatrix[-1,:-1]"
   ]
  },
  {
   "cell_type": "code",
   "execution_count": 1161,
   "metadata": {
    "collapsed": false
   },
   "outputs": [],
   "source": [
    "X_train, X_test, y_train, y_test=train_test_split(X, y, test_size=0.2, random_state=8)\n",
    "weights=y_train+1"
   ]
  },
  {
   "cell_type": "code",
   "execution_count": 1162,
   "metadata": {
    "collapsed": false
   },
   "outputs": [
    {
     "data": {
      "text/plain": [
       "array([[-0.33689176,  2.14097994,  0.99953475, ..., -0.62446927,\n",
       "        -0.41475882, -0.58884405],\n",
       "       [-0.33689176,  0.81791615, -0.30181203, ...,  1.60135982,\n",
       "        -0.41475882, -0.58884405],\n",
       "       [-0.33689176, -0.50514763, -0.30181203, ...,  1.60135982,\n",
       "        -0.41475882, -0.58884405],\n",
       "       ..., \n",
       "       [-0.33689176, -0.50514763, -0.30181203, ..., -0.62446927,\n",
       "        -0.41475882,  1.6982425 ],\n",
       "       [-0.33689176, -0.50514763, -0.30181203, ..., -0.62446927,\n",
       "        -0.41475882, -0.58884405],\n",
       "       [-0.33689176, -0.50514763,  0.99953475, ...,  1.60135982,\n",
       "        -0.41475882, -0.58884405]])"
      ]
     },
     "execution_count": 1162,
     "metadata": {},
     "output_type": "execute_result"
    }
   ],
   "source": [
    "scaler=StandardScaler()\n",
    "scaler.fit_transform(X_train)\n",
    "scaler.transform(X_test)"
   ]
  },
  {
   "cell_type": "code",
   "execution_count": 1163,
   "metadata": {
    "collapsed": false
   },
   "outputs": [
    {
     "name": "stdout",
     "output_type": "stream",
     "text": [
      "[[  3.75723479e-02   3.72930691e-06   1.12734968e-03   2.46564457e-07\n",
      "    9.56542360e-06   1.49226075e-04   7.10434140e-05   8.56601232e-05\n",
      "    3.50207478e-03   3.98500192e-04   3.60217416e-05   2.83827789e-05\n",
      "    3.84688647e-06   1.19982976e-08   8.14541424e-07   1.80611164e-05\n",
      "    6.63135899e-05   2.46681477e-04   7.11352217e-05   7.11133437e-05\n",
      "    1.40196096e-02   5.09992080e-03   7.09518433e-04   9.87367824e-06\n",
      "    2.14546824e-04   1.23615832e-01   9.33564044e-06   3.07154349e-03\n",
      "    6.85043852e-05   1.56731612e-06   2.45992353e-05   6.69904677e-08\n",
      "    3.07825436e-05   6.69842608e-05   6.08832247e-06   1.55298283e-03\n",
      "    1.85543396e-06   8.56062900e-04   6.54933405e-05   3.20769042e-06\n",
      "    3.29149911e-07   1.57480312e-10   1.68009678e-06   8.59381603e-06\n",
      "    6.69842608e-05   1.08556876e-04   4.42260947e-05   1.78263674e-05\n",
      "    1.49076687e-05]]\n"
     ]
    }
   ],
   "source": [
    "factors=abs(np.array(corrmatrix[-1, :-1]))**1.7\n",
    "for i in xrange(2):\n",
    "    factors=normalize(factors.reshape(1,-1))\n",
    "    factors*=abs(corrmatrix[-1, :-1])\n",
    "print factors"
   ]
  },
  {
   "cell_type": "code",
   "execution_count": 1164,
   "metadata": {
    "collapsed": false
   },
   "outputs": [],
   "source": [
    "X_train*=factors\n",
    "X_test*=factors\n",
    "    "
   ]
  },
  {
   "cell_type": "code",
   "execution_count": 1165,
   "metadata": {
    "collapsed": false
   },
   "outputs": [],
   "source": [
    "knnc = KNeighborsClassifier(n_neighbors=10, weights='distance')\n",
    "knnc.fit(X_train, y_train)\n",
    "pred=knnc.predict_proba(X_test)[:,1]"
   ]
  },
  {
   "cell_type": "code",
   "execution_count": 1166,
   "metadata": {
    "collapsed": false
   },
   "outputs": [
    {
     "name": "stdout",
     "output_type": "stream",
     "text": [
      "256\n",
      "0.130575539568\n",
      "1452\n",
      "5731\n",
      "0.0633608815427\n",
      "Ks_2sampResult(statistic=0.14814798984694044, pvalue=1.1694036526653201e-24)\n"
     ]
    }
   ],
   "source": [
    "print len(pred[pred>0.5])\n",
    "print 1.0*sum(y_test)/len(y_test)\n",
    "print sum(y_test)\n",
    "print sum(y_train)\n",
    "print 1.0*len(pred[(pred>0.5)&(y_test==1)])/sum(y_test==1)\n",
    "\n",
    "p=pred[y_test==1]\n",
    "n=pred[y_test==0]\n",
    "print ks_2samp(p,n)"
   ]
  },
  {
   "cell_type": "code",
   "execution_count": null,
   "metadata": {
    "collapsed": true
   },
   "outputs": [],
   "source": []
  },
  {
   "cell_type": "code",
   "execution_count": null,
   "metadata": {
    "collapsed": true
   },
   "outputs": [],
   "source": []
  },
  {
   "cell_type": "code",
   "execution_count": null,
   "metadata": {
    "collapsed": true
   },
   "outputs": [],
   "source": []
  }
 ],
 "metadata": {
  "kernelspec": {
   "display_name": "Python 2",
   "language": "python",
   "name": "python2"
  },
  "language_info": {
   "codemirror_mode": {
    "name": "ipython",
    "version": 2
   },
   "file_extension": ".py",
   "mimetype": "text/x-python",
   "name": "python",
   "nbconvert_exporter": "python",
   "pygments_lexer": "ipython2",
   "version": "2.7.12"
  }
 },
 "nbformat": 4,
 "nbformat_minor": 0
}
