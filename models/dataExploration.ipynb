{
 "cells": [
  {
   "cell_type": "code",
   "execution_count": 70,
   "metadata": {
    "collapsed": true
   },
   "outputs": [],
   "source": [
    "import pandas\n",
    "import numpy as np\n",
    "from matplotlib import pyplot as plt\n",
    "%matplotlib inline"
   ]
  },
  {
   "cell_type": "code",
   "execution_count": 71,
   "metadata": {
    "collapsed": true
   },
   "outputs": [],
   "source": [
    "inputFolder='../data/'\n",
    "trainFolder=inputFolder+'train/'\n",
    "testFolder=inputFolder+'test/'"
   ]
  },
  {
   "cell_type": "markdown",
   "metadata": {},
   "source": [
    "(1）数据总体概述     参赛者可用的训练数据包括用户的基本属性user_info.txt、银行流水记录bank_detail.txt、用户浏览行为browse_history.txt、信用卡账单记录bill_detail.txt、放款时间loan_time.txt，以及这些顾客是否发生逾期行为的记录overdue.txt。（注意：并非每一位用户都有非常完整的记录，如有些用户并没有信用卡账单记录，有些用户却没有银行流水记录。）     相应地，还有用于测试的用户的基本属性、银行流水、信用卡账单记录、浏览行为、放款时间等数据信息，以及待预测用户的id列表。     脱敏处理：(a) 隐藏了用户的id信息；(b) 将用户属性信息全部数字化；(c) 将时间戳和所有金额的值都做了函数变换。 2）数据详细描述 （1）用户的基本属性user_info.txt。共6个字段，其中字段性别为0表示性别未知。     用户id,性别,职业,教育程度,婚姻状态,户口类型     6346,1,2,4,4,2     2583,2,2,2,2,1     9530,1,2,4,4,2     6707,0,2,3,3,2 \n",
    "\n",
    "（2）银行流水记录bank_detail.txt。共5个字段，其中，第2个字段，时间戳为0表示时间未知；第3个字段，交易类型有两个值，1表示支出、0表示收入；第5个字段，工资收入标记为1时，表示工资收入。     用户id,时间戳,交易类型,交易金额,工资收入标记      6951,5894316387,0,13.756664,0     6951,5894321388,1,13.756664,0     18418,5896951231,1,11.978812,0     18418,5897181971,1,12.751543,0     18418,5897293906,0,14.456463,1\n",
    "\n",
    "（3）用户浏览行为browse_history.txt。共4个字段。其中，第2个字段，时间戳为0表示时间未知。     用户id,时间戳,浏览行为数据,浏览子行为编号     34724,5926003545,172,1     34724,5926003545,163,4     34724,5926003545,38,7     67215,5932800403,163,4     67215,5932800403,138,4     67215,5932800403,109,7 \n",
    "\n",
    "（4）信用卡账单记录bill_detail.txt。共15个字段，其中，第2个字段，时间戳为0表示时间未知。为方便浏览，字段以表格的形式给出。\n",
    "\n",
    "\n",
    " 文件示例如下：\n",
    "    用户id,账单时间戳,银行id,上期账单金额,上期还款金额,信用卡额度,本期账单余额,本期账单最低还款额,消费笔数,本期账单金额,调整金额,循环利息,可用金额,预借现金额度,还款状态\n",
    "    3147,5906744363,6,18.626118,18.661937,20.664418,18.905766,17.847133,1,0.000000,0.000000,0.000000,0.000000,19.971271,0\n",
    "    22717,5934018585,3,0.000000,0.000000,20.233635,18.574069,18.396785,0,0.000000,0.000000,0.000000,0.000000,0.000000,0\n",
    " （5）放款时间信息loan_time.txt。共2个字段，用户id和放款时间。\n",
    "    用户id,放款时间\n",
    "    1,5914855887\n",
    "    2,5914855887\n",
    "    3,5914855887\n",
    "（6）顾客是否发生逾期行为的记录overdue.txt。共2个字段。样本标签为1，表示逾期30天以上；样本标签为0，表示逾期10天以内。注意：逾期10天~30天之内的用户，并不在此问题考虑的范围内。用于测试的用户，只提供id列表，文件名为testUsers.csv。\n",
    "    用户id,样本标签\n",
    "    1,1\n",
    "    2,0\n",
    "    3,1"
   ]
  },
  {
   "cell_type": "code",
   "execution_count": 72,
   "metadata": {
    "collapsed": false
   },
   "outputs": [],
   "source": [
    "trainUsers=pandas.read_csv(trainFolder+'user_info_train.txt', \\\n",
    "                           names=['id','sex','profession','education','marriage','citizen_type'],\\\n",
    "                          index_col=0).sort_index()\n",
    "\n",
    "trainBanks=pandas.read_csv(trainFolder+'bank_detail_train.txt',\\\n",
    "                          names=['user_id', 'time', 'transaction_type', 'amount', 'is_salary'])\n",
    "\n",
    "trainBrowse=pandas.read_csv(trainFolder+'browse_history_train.txt',\\\n",
    "                           names=['user_id', 'time', 'browse_type', 'sub_type'])\n",
    "\n",
    "trainBills=pandas.read_csv(trainFolder+'bill_detail_train.txt',\\\n",
    "                          names=['user_id', 'time', 'bank_id', 'last_bill_amount', 'last_bill_pay', 'credit_line', 'cur_bill_balance', \\\n",
    "                                 'cur_bill_min_due', 'transactionNum', 'cur_bill_amount', 'adjusted_amount', 'cumulative_interest',\\\n",
    "                                 'available_deposit', 'available_credit', 'debt[_status'])\n",
    "\n",
    "trainFundingTime=pandas.read_csv(trainFolder+'loan_time_train.txt',\\\n",
    "                                names=['user_id', 'time'], index_col=0).sort_index()\n",
    "\n",
    "trainOverdue=pandas.read_csv(trainFolder+'overdue_train.txt',\\\n",
    "                            names=['user_id', 'label'], index_col=0).sort_index()"
   ]
  },
  {
   "cell_type": "code",
   "execution_count": 80,
   "metadata": {
    "collapsed": false
   },
   "outputs": [
    {
     "data": {
      "text/plain": [
       "1714985"
      ]
     },
     "execution_count": 80,
     "metadata": {},
     "output_type": "execute_result"
    }
   ],
   "source": [
    "(trainBills['last_bill_amount']>0).sum()"
   ]
  },
  {
   "cell_type": "code",
   "execution_count": 44,
   "metadata": {
    "collapsed": false
   },
   "outputs": [],
   "source": [
    "\n",
    "testFundingTime=pandas.read_csv(testFolder+'loan_time_test.txt',\\\n",
    "                            names=['user_id', 'time'],index_col=0).sort_index()"
   ]
  },
  {
   "cell_type": "code",
   "execution_count": 57,
   "metadata": {
    "collapsed": false
   },
   "outputs": [
    {
     "data": {
      "text/plain": [
       "0"
      ]
     },
     "execution_count": 57,
     "metadata": {},
     "output_type": "execute_result"
    }
   ],
   "source": [
    "trainBills['time'].min()"
   ]
  },
  {
   "cell_type": "code",
   "execution_count": 69,
   "metadata": {
    "collapsed": false
   },
   "outputs": [
    {
     "data": {
      "text/plain": [
       "Int64Index([ 3301,  3302,  3303,  3304,  3305,  3306,  3307,  3308,  3309,\n",
       "             3310,\n",
       "            ...\n",
       "            55587, 55588, 55589, 55590, 55591, 55592, 55593, 55594, 55595,\n",
       "            55596],\n",
       "           dtype='int64', name=u'id', length=52296)"
      ]
     },
     "execution_count": 69,
     "metadata": {},
     "output_type": "execute_result"
    }
   ],
   "source": [
    "a=trainUsers[3300:]\n",
    "a.index"
   ]
  },
  {
   "cell_type": "code",
   "execution_count": 65,
   "metadata": {
    "collapsed": false
   },
   "outputs": [
    {
     "name": "stdout",
     "output_type": "stream",
     "text": [
      "5932135887\n",
      "5932135887\n"
     ]
    },
    {
     "data": {
      "text/plain": [
       "[<matplotlib.lines.Line2D at 0x7f480fdb8c50>]"
      ]
     },
     "execution_count": 65,
     "metadata": {},
     "output_type": "execute_result"
    },
    {
     "data": {
      "image/png": "[encoded data removed]",
      "text/plain": [
       "<matplotlib.figure.Figure at 0x7f480fc81ed0>"
      ]
     },
     "metadata": {},
     "output_type": "display_data"
    },
    {
     "data": {
      "image/png": "[encoded data removed]",
      "text/plain": [
       "<matplotlib.figure.Figure at 0x7f48104ee9d0>"
      ]
     },
     "metadata": {},
     "output_type": "display_data"
    },
    {
     "data": {
      "image/png": "[encoded data removed]",
      "text/plain": [
       "<matplotlib.figure.Figure at 0x7f48100354d0>"
      ]
     },
     "metadata": {},
     "output_type": "display_data"
    }
   ],
   "source": [
    "print trainFundingTime.time.unique().max()\n",
    "print testFundingTime.time.unique().min()\n",
    "plt.plot(trainFundingTime.time[3300:])\n",
    "plt.figure()\n",
    "plt.plot(testFundingTime.index, testFundingTime.time)\n",
    "plt.figure()\n",
    "allFT=pandas.concat([trainFundingTime, testFundingTime])\n",
    "plt.plot(allFT.index, allFT.time)"
   ]
  },
  {
   "cell_type": "code",
   "execution_count": 52,
   "metadata": {
    "collapsed": false
   },
   "outputs": [
    {
     "name": "stdout",
     "output_type": "stream",
     "text": [
      "116\n"
     ]
    }
   ],
   "source": [
    "print (trainBrowse['browse_type'].value_counts()>=1000).sum()"
   ]
  },
  {
   "cell_type": "code",
   "execution_count": 30,
   "metadata": {
    "collapsed": false
   },
   "outputs": [
    {
     "name": "stdout",
     "output_type": "stream",
     "text": [
      "    cur_bill_amount  adjusted_amount\n",
      "0          0.000000         0.000000\n",
      "1          0.000000         0.000000\n",
      "2          0.000000         0.000000\n",
      "3          0.000000         0.000000\n",
      "4          0.000000         0.000000\n",
      "5          0.000000         0.000000\n",
      "6          0.000000         0.000000\n",
      "7          0.000000         0.000000\n",
      "8         17.322724         0.000000\n",
      "9         19.976445        18.659787\n",
      "10         0.000000         0.000000\n",
      "11        19.237914         0.000000\n",
      "12         0.000000         0.000000\n",
      "13        19.754017        20.181980\n",
      "14         0.000000         0.000000\n",
      "15        19.290633         0.000000\n",
      "16         0.000000         0.000000\n",
      "17         0.000000         0.000000\n",
      "18        20.537050         0.000000\n",
      "19         0.000000         0.000000\n"
     ]
    }
   ],
   "source": [
    "print trainBills[['cur_bill_amount', 'adjusted_amount']].head(20)"
   ]
  },
  {
   "cell_type": "code",
   "execution_count": 28,
   "metadata": {
    "collapsed": false
   },
   "outputs": [
    {
     "data": {
      "text/html": [
       "<div>\n",
       "<table border=\"1\" class=\"dataframe\">\n",
       "  <thead>\n",
       "    <tr style=\"text-align: right;\">\n",
       "      <th></th>\n",
       "      <th>user_id</th>\n",
       "      <th>time</th>\n",
       "      <th>transaction_type</th>\n",
       "      <th>amount</th>\n",
       "      <th>is_salary</th>\n",
       "    </tr>\n",
       "  </thead>\n",
       "  <tbody>\n",
       "  </tbody>\n",
       "</table>\n",
       "</div>"
      ],
      "text/plain": [
       "Empty DataFrame\n",
       "Columns: [user_id, time, transaction_type, amount, is_salary]\n",
       "Index: []"
      ]
     },
     "execution_count": 28,
     "metadata": {},
     "output_type": "execute_result"
    }
   ],
   "source": [
    "trainBanks[(trainBanks['is_salary']==1) & (trainBanks['transaction_type']==1)].head()"
   ]
  },
  {
   "cell_type": "code",
   "execution_count": 24,
   "metadata": {
    "collapsed": false
   },
   "outputs": [
    {
     "name": "stdout",
     "output_type": "stream",
     "text": [
      "[0 1]\n",
      "         amount\n",
      "1632  14.847955\n",
      "1684  14.717024\n",
      "1740  14.637385\n",
      "1785  14.911227\n",
      "1824  14.931199\n",
      "amount    2299.895925\n",
      "dtype: float64\n",
      "    last_bill_amount  last_bill_pay    credit_line  cur_bill_amount  \\\n",
      "0       22163.591000   22564.105640   61411.732567         0.000000   \n",
      "1       25489.711458   25543.142837   61411.732567         0.000000   \n",
      "2       28276.876874   28804.651922   61411.732567         0.000000   \n",
      "3       31046.587517   31047.922549   72663.333311         0.000000   \n",
      "4       51265.186743   51380.766037   72663.333311         0.000000   \n",
      "5       37319.441106   38351.605840   61411.732567         0.000000   \n",
      "6       46451.715681   47569.314533   75213.700452         0.000000   \n",
      "7           0.000000       0.000000       0.000000         0.000000   \n",
      "8       30094.694669   32965.395819   33636.587890     11550.790620   \n",
      "9       38954.737696   31910.461400   97100.439482     43537.141463   \n",
      "10      42002.930953   24564.686372   72663.333311         0.000000   \n",
      "11      30898.523497   30898.523497   33636.587890     30094.694669   \n",
      "12          0.000000       0.000000       0.000000         0.000000   \n",
      "13      54255.094774   24811.627605   97100.439482     38954.737696   \n",
      "14      62566.056403   35703.399202   72663.333311         0.000000   \n",
      "15      29437.618560   29437.618560   33636.587890     30898.523497   \n",
      "16          0.000000       0.000000       0.000000         0.000000   \n",
      "17          0.000000       0.000000       0.000000         0.000000   \n",
      "18      60569.041793   63603.239277   97100.439482     57622.718076   \n",
      "19      63588.707598   63588.707598   72663.333311         0.000000   \n",
      "20          0.000000       0.000000       0.000000         0.000000   \n",
      "21          0.000000       0.000000       0.000000         0.000000   \n",
      "22      60209.424970   60209.424970   72663.333311         0.000000   \n",
      "23      57165.776190   57165.776190  106368.225671     60569.041793   \n",
      "24      29179.747773   30109.911383   33636.587890     32162.217680   \n",
      "25          0.000000       0.000000       0.000000         0.000000   \n",
      "26          0.000000       0.000000       0.000000         0.000000   \n",
      "27      50205.992937   50267.658633  106368.225671     57219.937822   \n",
      "28      56380.107983   56618.817859   72663.333311         0.000000   \n",
      "29      29373.808186   32916.906453   33636.587890     32743.857908   \n",
      "..               ...            ...            ...              ...   \n",
      "70      48048.186882   36332.181821   47569.314533     35428.015306   \n",
      "71      36326.732403   20367.966493   38840.184756     22084.663260   \n",
      "72      47834.847482   15487.448059   38840.184756      6520.061801   \n",
      "73      58236.913193   13027.394243   47569.314533     13318.984058   \n",
      "74      45725.512413   18217.658948   38840.184756      5375.192205   \n",
      "75      39866.899787   43856.739461   38840.184756     37564.404011   \n",
      "76      50856.726797   51380.766037   47569.314533     46124.875383   \n",
      "77      32818.287302   34467.243178   47569.314533     49035.052561   \n",
      "78      45849.390287   46567.757413   47569.314533     48164.363480   \n",
      "79      47890.368101   42741.844296   47569.314533     25123.179308   \n",
      "80      47473.558870   12282.345282   47569.314533     12127.843054   \n",
      "81      37771.955156   53888.570260   38840.184756     54578.410961   \n",
      "82      48048.186882   36332.181821   47569.314533     35428.015306   \n",
      "83          0.000000            NaN   38840.184756      8686.450302   \n",
      "84      47544.656237   36715.734645   47569.314533     36722.472600   \n",
      "85          0.000000            NaN   38840.184756     31211.540041   \n",
      "86      39030.227119   64056.877594   47569.314533     69573.128023   \n",
      "87          0.000000            NaN   38840.184756     51024.933265   \n",
      "88      37771.955156   53888.570260   38840.184756     54578.410961   \n",
      "89      45184.874713  107986.897617   47569.314533    101977.826397   \n",
      "90      33132.971346       0.000000   38840.184756     18749.796441   \n",
      "91      47968.445087    1366.324558   47569.314533      2746.415581   \n",
      "92      38070.317117   20454.806607   38840.184756     19102.102282   \n",
      "93      48409.467337   34286.232881   47569.314533     33068.772225   \n",
      "94      37360.944726    8685.147432   38840.184756     19929.497019   \n",
      "95      47795.065440   15042.738646   47569.314533     14071.196287   \n",
      "96      55252.268641   12358.868326   54928.311124      8684.930306   \n",
      "97      55183.136086   12343.602201   54928.311124     10812.651508   \n",
      "98      55183.136086   12343.602201   54928.311124     10812.651508   \n",
      "99      97619.610586   30877.334378  133137.429796     52115.734079   \n",
      "\n",
      "    adjusted_amount  \n",
      "0          0.000000  \n",
      "1          0.000000  \n",
      "2          0.000000  \n",
      "3          0.000000  \n",
      "4          0.000000  \n",
      "5          0.000000  \n",
      "6          0.000000  \n",
      "7          0.000000  \n",
      "8          0.000000  \n",
      "9      22539.862259  \n",
      "10         0.000000  \n",
      "11         0.000000  \n",
      "12         0.000000  \n",
      "13     48249.328024  \n",
      "14         0.000000  \n",
      "15         0.000000  \n",
      "16         0.000000  \n",
      "17         0.000000  \n",
      "18         0.000000  \n",
      "19         0.000000  \n",
      "20         0.000000  \n",
      "21         0.000000  \n",
      "22         0.000000  \n",
      "23         0.000000  \n",
      "24         0.000000  \n",
      "25         0.000000  \n",
      "26         0.000000  \n",
      "27         0.000000  \n",
      "28         0.000000  \n",
      "29         0.000000  \n",
      "..              ...  \n",
      "70         0.000000  \n",
      "71         0.000000  \n",
      "72         0.000000  \n",
      "73         0.000000  \n",
      "74         0.000000  \n",
      "75         0.000000  \n",
      "76         0.000000  \n",
      "77         0.000000  \n",
      "78         0.000000  \n",
      "79         0.000000  \n",
      "80         0.000000  \n",
      "81         0.000000  \n",
      "82         0.000000  \n",
      "83         0.000000  \n",
      "84         0.000000  \n",
      "85         0.000000  \n",
      "86         0.000000  \n",
      "87         0.000000  \n",
      "88         0.000000  \n",
      "89         0.000000  \n",
      "90         0.000000  \n",
      "91         0.000000  \n",
      "92         0.000000  \n",
      "93         0.000000  \n",
      "94         0.000000  \n",
      "95         0.000000  \n",
      "96         0.000000  \n",
      "97         0.000000  \n",
      "98         0.000000  \n",
      "99         0.000000  \n",
      "\n",
      "[100 rows x 5 columns]\n"
     ]
    }
   ],
   "source": [
    "print trainBills['debt_status'].unique()\n",
    "print trainBanks[trainBanks['is_salary']==1][['amount']].head()\n",
    "print 2*np.power((np.exp(trainBanks[trainBanks['is_salary']==1][['amount']])-1), 1.0/2).mean()\n",
    "\n",
    "\n",
    "print 2*np.power((np.exp(trainBills[['last_bill_amount', 'last_bill_pay',  'credit_line', 'cur_bill_amount',\\\n",
    "                 'adjusted_amount']])-1), 1.0/2).head(100)"
   ]
  },
  {
   "cell_type": "code",
   "execution_count": 147,
   "metadata": {
    "collapsed": true
   },
   "outputs": [],
   "source": [
    "bills=trainBills.groupby('user_id')"
   ]
  },
  {
   "cell_type": "code",
   "execution_count": 175,
   "metadata": {
    "collapsed": false
   },
   "outputs": [],
   "source": [
    "banksOnbill=pandas.DataFrame({'bankNum':bills['bank_id'].nunique()})\n",
    "banksOnbill['overdue']=trainOverdue.set_index('user_id')"
   ]
  },
  {
   "cell_type": "code",
   "execution_count": 189,
   "metadata": {
    "collapsed": false
   },
   "outputs": [
    {
     "name": "stdout",
     "output_type": "stream",
     "text": [
      "bankNum\n",
      "1     0.145796\n",
      "2     0.134560\n",
      "3     0.114722\n",
      "4     0.101204\n",
      "5     0.091159\n",
      "6     0.086522\n",
      "7     0.078643\n",
      "8     0.089013\n",
      "9     0.067885\n",
      "10    0.098592\n",
      "11    0.096774\n",
      "12    0.115385\n",
      "13    0.111111\n",
      "14    0.200000\n",
      "15    0.000000\n",
      "17    0.000000\n",
      "dtype: float64\n"
     ]
    },
    {
     "data": {
      "text/plain": [
       "<matplotlib.collections.PathCollection at 0x7f395c229110>"
      ]
     },
     "execution_count": 189,
     "metadata": {},
     "output_type": "execute_result"
    },
    {
     "data": {
      "image/png": "[encoded data removed]",
      "text/plain": [
       "<matplotlib.figure.Figure at 0x7f395c3283d0>"
      ]
     },
     "metadata": {},
     "output_type": "display_data"
    }
   ],
   "source": [
    "banks2Overdue=banksOnbill.groupby('bankNum').apply(lambda x: 1.0*x['overdue'].sum()/x['overdue'].count())\n",
    "print banks2Overdue\n",
    "plt.scatter(banks2Overdue.index, banks2Overdue)"
   ]
  },
  {
   "cell_type": "code",
   "execution_count": 139,
   "metadata": {
    "collapsed": false
   },
   "outputs": [],
   "source": [
    "userFeatures=trainUsers.copy()\n",
    "\n",
    "bankRecordsPersonal=trainBanks.groupby('user_id')\n",
    "userFeatures['transactionNum']=bankRecordsPersonal['amount'].count()\n",
    "userFeatures['transactionAmount']=bankRecordsPersonal['amount'].sum()\n",
    "userFeatures['salaryNum']=bankRecordsPersonal['is_salary'].sum()\n",
    "\n",
    "browseRecordsPersonal=trainBrowse.groupby('user_id')\n",
    "userFeatures['browseNum']=browseRecordsPersonal['time'].count()\n",
    "userFeatures['browseTypes']=browseRecordsPersonal['browse_type'].nunique()\n",
    "userFeatures['browseSubTypes']=browseRecordsPersonal.apply(lambda x: x.groupby('browse_type')['sub_type'].nunique().sum())\n",
    "\n",
    "bills=trainBills.groupby('user_id')\n",
    "userFeatures['billBanksNum']=bills['bank_id'].nunique()\n",
    "userFeatures['billNum']=bills['time'].count()\n",
    "\n",
    "\n"
   ]
  },
  {
   "cell_type": "code",
   "execution_count": 91,
   "metadata": {
    "collapsed": false
   },
   "outputs": [
    {
     "name": "stdout",
     "output_type": "stream",
     "text": [
      "5746916127 5952662481\n"
     ]
    }
   ],
   "source": [
    "print trainBills[trainBills.time>0].time.min(), trainBills['time'].max()"
   ]
  },
  {
   "cell_type": "code",
   "execution_count": 193,
   "metadata": {
    "collapsed": false
   },
   "outputs": [
    {
     "name": "stdout",
     "output_type": "stream",
     "text": [
      "users:\n",
      "[0 1 2 3 4]\n",
      "[0 1 2 3 4]\n",
      "[0 1 2 3 4 5]\n",
      "brank records:\n",
      "number of different times:  1419542\n",
      "number of transaction types:  [0 1]\n",
      "number of is_salary types:  [0 1]\n",
      "browse history:\n",
      "[  1   2   3   4   5   6   7   8   9  10  11  12  13  14  15  16  17  18\n",
      "  19  20  21  22  23  24  25  26  27  28  29  30  31  32  33  34  35  36\n",
      "  37  38  39  40  41  42  43  44  45  46  47  48  49  50  51  52  53  54\n",
      "  55  56  57  58  59  60  61  62  63  64  65  66  67  68  69  70  72  73\n",
      "  74  75  76  77  78  79  80  81  82  83  84  85  86  87  88  89  90  91\n",
      "  92  93  94  95  96  97  98  99 100 101 102 103 104 105 106 107 108 109\n",
      " 110 111 112 113 114 115 116 117 118 119 120 121 122 123 124 125 126 127\n",
      " 128 129 130 131 132 133 134 135 136 137 138 139 140 142 143 144 145 146\n",
      " 147 148 149 150 151 152 153 154 155 156 157 158 159 160 161 162 163 164\n",
      " 165 166 167 168 169 170 171 172 173 174 175 176 177 178 179 180 181 182\n",
      " 183 184 185 186 187 188 189 190 191 192 193 194 195 196 197 198 199 200\n",
      " 201 202 203 204 205 206 207 208 209 210 211 212 213 214 215 216]\n",
      "[ 1  2  3  4  5  6  7  8  9 10 11]\n",
      "bill history:\n",
      "[     1      2      3      4      5      6      7      8      9     10\n",
      "     11     12     13     14     15     16 510014 510016 510017 510022\n",
      " 510024 510026 510027 510033 510037 510044 510050 510053 510057]\n",
      "[0 1]\n",
      "funding time:\n",
      "191\n",
      "overdue:\n",
      "[0 1]\n"
     ]
    }
   ],
   "source": [
    "print 'users:'\n",
    "print trainUsers['profession'].sort_values(inplace=False).unique()\n",
    "print trainUsers['citizen_type'].sort_values(inplace=False).unique()\n",
    "print trainUsers['marriage'].sort_values(inplace=False).unique()\n",
    "\n",
    "\n",
    "print 'brank records:'\n",
    "print 'number of different times: ', len(trainBanks['time'].sort_values(inplace=False).unique())\n",
    "print 'number of transaction types: ', trainBanks['transaction_type'].sort_values(inplace=False).unique()\n",
    "print 'number of is_salary types: ', trainBanks['is_salary'].sort_values(inplace=False).unique()\n",
    "\n",
    "print 'browse history:'\n",
    "print trainBrowse['browse_type'].sort_values(inplace=False).unique()\n",
    "print trainBrowse['sub_type'].sort_values(inplace=False).unique()\n",
    "\n",
    "print 'bill history:'\n",
    "print trainBills['bank_id'].sort_values(inplace=False).unique()\n",
    "print trainBills['debt_status'].sort_values(inplace=False).unique()\n",
    "\n",
    "print 'funding time:'\n",
    "print len(trainFundingTime['time'].unique())\n",
    "\n",
    "print 'overdue:'\n",
    "print trainOverdue['label'].unique()"
   ]
  },
  {
   "cell_type": "code",
   "execution_count": 8,
   "metadata": {
    "collapsed": false
   },
   "outputs": [
    {
     "name": "stdout",
     "output_type": "stream",
     "text": [
      "0             38773\n",
      "5879518287        1\n",
      "5879863887        3\n",
      "5880036687        4\n",
      "5880295887        2\n",
      "5880382287        1\n",
      "5880436587        2\n",
      "5880440061        2\n",
      "5880468687        2\n",
      "5880555087        2\n",
      "5880641487        1\n",
      "5880727887       20\n",
      "5880814287        3\n",
      "5880900687        7\n",
      "5880987087        3\n",
      "5881073487        4\n",
      "5881159887        5\n",
      "5881246287       37\n",
      "5881332687       31\n",
      "5881419087        2\n",
      "Name: time, dtype: int64\n"
     ]
    },
    {
     "data": {
      "text/plain": [
       "<matplotlib.axes._subplots.AxesSubplot at 0x7f395b2b1890>"
      ]
     },
     "execution_count": 8,
     "metadata": {},
     "output_type": "execute_result"
    },
    {
     "data": {
      "image/png": "[encoded data removed]",
      "text/plain": [
       "<matplotlib.figure.Figure at 0x7f3963817990>"
      ]
     },
     "metadata": {},
     "output_type": "display_data"
    },
    {
     "data": {
      "image/png": "[encoded data removed]",
      "text/plain": [
       "<matplotlib.figure.Figure at 0x7f39637a63d0>"
      ]
     },
     "metadata": {},
     "output_type": "display_data"
    }
   ],
   "source": [
    "bankTimeCounts=trainBanks['time'].value_counts().sort_index()\n",
    "print bankTimeCounts.head(20)\n",
    "plt.figure(1)\n",
    "bankTimeCounts[1:].plot()\n",
    "\n",
    "browseTimeCounts=trainBrowse['time'].value_counts().sort_index()\n",
    "plt.figure(2)\n",
    "browseTimeCounts.plot()"
   ]
  },
  {
   "cell_type": "markdown",
   "metadata": {},
   "source": [
    "cannot see much of frequency component in the transformed time stamp.  Cannot use periodic time as a feature."
   ]
  },
  {
   "cell_type": "code",
   "execution_count": 10,
   "metadata": {
    "collapsed": false
   },
   "outputs": [],
   "source": [
    "bankTimeFreq=np.fft.fft(bankTimeCounts[1:])\n",
    "browseTimeFreq=np.fft.fft(browseTimeCounts)"
   ]
  },
  {
   "cell_type": "code",
   "execution_count": 35,
   "metadata": {
    "collapsed": false
   },
   "outputs": [
    {
     "name": "stdout",
     "output_type": "stream",
     "text": [
      "[ 0.]\n"
     ]
    },
    {
     "data": {
      "image/png": "[encoded data removed]",
      "text/plain": [
       "<matplotlib.figure.Figure at 0x7f395bce0b50>"
      ]
     },
     "metadata": {},
     "output_type": "display_data"
    }
   ],
   "source": [
    "plt.subplot(221)\n",
    "f=np.fft.fftfreq(len(bankTimeCounts[1:]),d=1.0)\n",
    "plt.plot(f[1:], abs(bankTimeFreq[1:]))\n",
    "plt.subplot(222)\n",
    "plt.plot(abs(bankTimeFreq[1:]))\n",
    "\n",
    "plt.subplot(223)\n",
    "f=np.fft.fftfreq(len(browseTimeFreq),d=1.0/3600/24)\n",
    "amp=abs(browseTimeFreq)\n",
    "plt.plot(f, abs(browseTimeFreq))\n",
    "plt.subplot(224)\n",
    "plt.plot(f[f>1], amp[f>1])\n",
    "print f[amp==amp.max()]"
   ]
  },
  {
   "cell_type": "code",
   "execution_count": 41,
   "metadata": {
    "collapsed": false
   },
   "outputs": [
    {
     "name": "stdout",
     "output_type": "stream",
     "text": [
      "Total users:  55596\n",
      "Unique users:  55596\n",
      "\n",
      "Total brank transactions:  6070197\n",
      "Unique users with bank transactions 9294\n",
      "\n",
      "Total browsing history:  22919547\n",
      "Unique users with browsing history:  47330\n",
      "\n",
      "Total bills:  2338118\n",
      "Unique users with bills 53174\n",
      "\n",
      "Total fundings:  55596\n",
      "Unique users in fundings 55596\n",
      "\n",
      "Total overdue records:  55596\n",
      "Unique users in overdue records 55596\n"
     ]
    }
   ],
   "source": [
    "# print trainUsers.head()\n",
    "# print trainBanks.head()\n",
    "\n",
    "# print trainBrowse.head()\n",
    "# print trainBills.head()\n",
    "\n",
    "# print trainFundingTime.head()\n",
    "# print trainOverdue.head()\n",
    "\n",
    "print 'Total users: ', len(trainUsers)\n",
    "print 'Unique users: ', len(trainUsers['id'].unique())\n",
    "print \n",
    "\n",
    "print 'Total brank transactions: ', len(trainBanks)\n",
    "print 'Unique users with bank transactions', len(trainBanks['user_id'].unique())\n",
    "print\n",
    "\n",
    "print 'Total browsing history: ', len(trainBrowse)\n",
    "print 'Unique users with browsing history: ', len(trainBrowse['user_id'].unique())\n",
    "print\n",
    "\n",
    "print 'Total bills: ', len(trainBills)\n",
    "print 'Unique users with bills', len(trainBills['user_id'].unique())\n",
    "print\n",
    "\n",
    "print 'Total fundings: ', len(trainFundingTime)\n",
    "print 'Unique users in fundings', len(trainFundingTime['user_id'].unique())\n",
    "print \n",
    "\n",
    "print 'Total overdue records: ', len(trainOverdue) \n",
    "print 'Unique users in overdue records',len(trainOverdue['user_id'].unique())\n"
   ]
  },
  {
   "cell_type": "code",
   "execution_count": null,
   "metadata": {
    "collapsed": true
   },
   "outputs": [],
   "source": []
  }
 ],
 "metadata": {
  "kernelspec": {
   "display_name": "Python 2",
   "language": "python",
   "name": "python2"
  },
  "language_info": {
   "codemirror_mode": {
    "name": "ipython",
    "version": 2
   },
   "file_extension": ".py",
   "mimetype": "text/x-python",
   "name": "python",
   "nbconvert_exporter": "python",
   "pygments_lexer": "ipython2",
   "version": "2.7.12"
  }
 },
 "nbformat": 4,
 "nbformat_minor": 0
}
