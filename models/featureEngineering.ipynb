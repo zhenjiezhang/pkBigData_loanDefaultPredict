{
 "cells": [
  {
   "cell_type": "code",
   "execution_count": 15,
   "metadata": {
    "collapsed": false
   },
   "outputs": [],
   "source": [
    "import pandas as pd\n",
    "import numpy as np\n",
    "from sklearn.model_selection import train_test_split\n",
    "from sklearn.model_selection import cross_val_score\n",
    "from sklearn.preprocessing import StandardScaler\n",
    "from sklearn.preprocessing import Imputer\n",
    "from sklearn.preprocessing import normalize\n",
    "\n",
    "from sklearn.ensemble import RandomForestClassifier as rfc\n",
    "\n",
    "from sklearn.neighbors import NearestNeighbors\n",
    "from sklearn.neighbors import KNeighborsClassifier\n",
    "\n",
    "from scipy.stats import ks_2samp\n",
    "\n",
    "from matplotlib import pyplot as plt\n",
    "%matplotlib inline\n",
    "\n",
    "inputFolder='../data/'\n",
    "trainFolder=inputFolder+'train/'\n",
    "testFolder=inputFolder+'test/'"
   ]
  },
  {
   "cell_type": "code",
   "execution_count": 16,
   "metadata": {
    "collapsed": false
   },
   "outputs": [],
   "source": [
    "trainUsers=pd.read_csv(trainFolder+'user_info_train.txt', \\\n",
    "                           names=['id','sex','profession','education','marriage','citizen_type'],\\\n",
    "                          index_col=0)\n",
    "\n",
    "trainBanks=pd.read_csv(trainFolder+'bank_detail_train.txt',\\\n",
    "                          names=['user_id', 'time', 'transaction_type', 'amount', 'is_salary'])\n",
    "\n",
    "trainBrowse=pd.read_csv(trainFolder+'browse_history_train.txt',\\\n",
    "                           names=['user_id', 'time', 'browse_type', 'sub_type'])\n",
    "\n",
    "trainBills=pd.read_csv(trainFolder+'bill_detail_train.txt',\\\n",
    "                          names=['user_id', 'time', 'bank_id', 'last_bill_amount', 'last_bill_pay', 'credit_line',\\\n",
    "                                 'cur_bill_balance', 'cur_bill_min_due', 'transactionNum', 'cur_bill_amount', \\\n",
    "                                 'adjusted_amount', 'cumulative_interest', 'available_deposit', 'available_credit', 'debt_status'])\n",
    "\n",
    "trainLoanTime=pd.read_csv(trainFolder+'loan_time_train.txt',\\\n",
    "                                names=['user_id', 'time'])\n",
    "\n",
    "trainOverdue=pd.read_csv(trainFolder+'overdue_train.txt',\\\n",
    "                            names=['user_id', 'label'], index_col=0)"
   ]
  },
  {
   "cell_type": "code",
   "execution_count": 17,
   "metadata": {
    "collapsed": false
   },
   "outputs": [
    {
     "name": "stdout",
     "output_type": "stream",
     "text": [
      "[1, 2, 3, 4, 5, 6, 7, 8, 9, 10, 11, 12, 13, 14, 15, 16, 510014, 510016, 510017, 510022, 510024, 510026, 510027, 510033, 510037, 510044, 510050, 510053, 510057]\n"
     ]
    }
   ],
   "source": [
    "bank_ids=trainBills.bank_id.unique()\n",
    "bankBills=dict()\n",
    "for b_id in bank_ids:\n",
    "    bs=trainBills[trainBills.bank_id==b_id]\n",
    "    if len(bs)>=1:\n",
    "        bankBills[b_id]=bs\n",
    "    \n",
    "print bankBills.keys()"
   ]
  },
  {
   "cell_type": "code",
   "execution_count": 40,
   "metadata": {
    "collapsed": false
   },
   "outputs": [
    {
     "name": "stdout",
     "output_type": "stream",
     "text": [
      "0    1942.009713\n",
      "1    1942.009713\n",
      "2    2746.415581\n",
      "3     386.454945\n",
      "4    1842.351624\n",
      "Name: amount, dtype: float64\n"
     ]
    }
   ],
   "source": [
    "trialTrainBanks=trainBanks.copy()\n",
    "fundConv=lambda x: 2*np.power((np.exp(x)-1),0.5)\n",
    "trialTrainBanks['amount']=fundConv(trialTrainBanks['amount'])\n",
    "print trialTrainBanks['amount'].head()"
   ]
  },
  {
   "cell_type": "code",
   "execution_count": 18,
   "metadata": {
    "collapsed": false
   },
   "outputs": [],
   "source": [
    "billFeatures=pd.DataFrame(np.arange(len(trainUsers))+1, columns=['id'])\n",
    "billFeatures.set_index(['id'], inplace=True)\n",
    "for b_id in bankBills.keys():\n",
    "    bankBillName='bank'+str(b_id).zfill(2)\n",
    "    billFeatures[bankBillName+'AvgCreditLine']=bankBills[b_id].groupby('user_id')['credit_line'].mean()\n",
    "#     billFeatures[bankBillName+'MaxCreditLine']=bankBills[b_id].groupby('user_id')['available_credit'].mean()\n",
    "    \n",
    "billFeatures.fillna(-1, inplace=True)\n"
   ]
  },
  {
   "cell_type": "code",
   "execution_count": 83,
   "metadata": {
    "collapsed": false
   },
   "outputs": [],
   "source": [
    "userFeatures=trainUsers.copy()\n",
    "userFeatures=userFeatures.join(billFeatures)"
   ]
  },
  {
   "cell_type": "code",
   "execution_count": null,
   "metadata": {
    "collapsed": false
   },
   "outputs": [],
   "source": [
    "\n",
    "\n",
    "bankRecordsPersonal=trainBanks.groupby('user_id')\n",
    "\n",
    "userFeatures['transactionNum']=bankRecordsPersonal['amount'].count()\n",
    "userFeatures['transactionAmount']=bankRecordsPersonal['amount'].sum()\n",
    "\n",
    "\n",
    "userFeatures['transactionNetAmount']=bankRecordsPersonal.apply(lambda x: x[x['transaction_type']==1]['amount'].sum())-\\\n",
    "        bankRecordsPersonal.apply(lambda x: x[x['transaction_type']==0]['amount'].sum())\n",
    "\n",
    "\n",
    "userFeatures['transactionExpense']=bankRecordsPersonal.apply(lambda x: x[x['transaction_type']==1]['amount'].sum())\n",
    "userFeatures['transactionExpenseMax']=bankRecordsPersonal.apply(lambda x: x[x['transaction_type']==1]['amount'].max())\n",
    "userFeatures['transactionExpenseAvg']=bankRecordsPersonal.apply(lambda x: x[x['transaction_type']==1]['amount'].mean())\n",
    "\n",
    "userFeatures['transactionIncome']=bankRecordsPersonal.apply(lambda x: x[x['transaction_type']==0]['amount'].sum())\n",
    "\n",
    "userFeatures['transactionIncomeMax']=bankRecordsPersonal.apply(lambda x: x[x['transaction_type']==0]['amount'].max())\n",
    "userFeatures['transactionIncomeAvg']=bankRecordsPersonal.apply(lambda x: x[x['transaction_type']==0]['amount'].mean())\n",
    "\n",
    "userFeatures['transactionExpenseNum']=bankRecordsPersonal.apply(lambda x: x[x['transaction_type']==1]['amount'].count())\n",
    "userFeatures['transactionIncomeNum']=bankRecordsPersonal.apply(lambda x: x[x['transaction_type']==0]['amount'].count())\n",
    "\n",
    "userFeatures['salaryNum']=bankRecordsPersonal['is_salary'].sum()\n",
    "userFeatures['salaryTotal']=bankRecordsPersonal.apply(lambda x: x[x['is_salary']==1]['amount'].sum())\n",
    "userFeatures['salaryAvg']=bankRecordsPersonal.apply(lambda x: x[x['is_salary']==1]['amount'].mean())\n",
    "userFeatures['salaryMax']=bankRecordsPersonal.apply(lambda x: x[x['is_salary']==1]['amount'].max())\n",
    "\n",
    "userFeatures['nonSalary']=bankRecordsPersonal.apply(\\\n",
    "    lambda x: x[(x['is_salary']==0) & (x['transaction_type']==0)]['amount'].mean())\n",
    "\n",
    "\n",
    "browseRecordsPersonal=trainBrowse.groupby('user_id')\n",
    "userFeatures['browseNum']=browseRecordsPersonal['time'].count()\n",
    "userFeatures['browseTypes']=browseRecordsPersonal['browse_type'].nunique()\n",
    "userFeatures['browseSubTypes']=browseRecordsPersonal.apply(lambda x: x.groupby('browse_type')['sub_type'].nunique().sum())\n",
    "\n",
    "\n",
    "bills=trainBills.groupby('user_id')\n",
    "userFeatures['billBanksNum']=bills['bank_id'].nunique()\n",
    "userFeatures['billNum']=bills['time'].count()\n",
    "userFeatures['underpay']=bills.apply(lambda x: 1.0*sum(x['last_bill_amount']-x['last_bill_pay'])/len(x))\n",
    "\n",
    "userFeatures['avgCreditLine']=bills['credit_line'].mean()\n",
    "userFeatures['avgTransactionNum']=bills['transactionNum'].mean()\n",
    "userFeatures['maxBankCredit_line']=bills.apply(lambda x: x.groupby('bank_id')['credit_line'].mean().max())\n",
    "userFeatures['avgLastBillAmount']=bills.apply(lambda x: x.groupby('bank_id')['last_bill_amount'].mean().mean())\n",
    "userFeatures['avgMaxLastBillAmount']=bills.apply(lambda x: x.groupby('bank_id')['last_bill_amount'].max().mean())\n",
    "\n",
    "userFeatures['avgBillTimeSpan']=bills['time'].max()-bills['time'].min()\n",
    "userFeatures['maxBankBillTimeSpan']=bills.apply(lambda x: (x.groupby('bank_id')['time'].max()-x.groupby('bank_id')['time'].min()).max())\n",
    "userFeatures['totalBankBillTimeSpan']=bills.apply(lambda x: (x.groupby('bank_id')['time'].max()-x.groupby('bank_id')['time'].min()).sum())\n",
    "userFeatures['debtNum']=bills['debt_status'].mean()\n",
    "\n",
    "\n",
    "userFeatures['loanTime']=trainLoanTime['time']\n"
   ]
  },
  {
   "cell_type": "code",
   "execution_count": null,
   "metadata": {
    "collapsed": false
   },
   "outputs": [],
   "source": [
    "# userFeatures['try']=bills.apply(lambda x: x.groupby('bank_id')['cur_bill_amount'].mean().mean())\n",
    "# userFeatures['try']=bills.apply(lambda x: x.groupby('bank_id')['cumulative_interest'].mean().max())\n",
    "\n",
    "# userFeatures['try']=bills.apply(lambda x: x.groupby('bank_id')['cur_bill_min_due'].mean().mean())\n",
    "\n",
    "# print userFeatures[['try', 'billNum']].head(20)"
   ]
  },
  {
   "cell_type": "code",
   "execution_count": null,
   "metadata": {
    "collapsed": false
   },
   "outputs": [],
   "source": [
    "userFeatures['transactionNum'].fillna(0, inplace=True)\n",
    "userFeatures['transactionNum']=userFeatures['transactionNum'].astype(int)\n",
    "\n",
    "\n",
    "userFeatures['salaryNum'].fillna(0, inplace=True)\n",
    "userFeatures['salaryNum']=userFeatures['salaryNum'].astype(int)\n",
    "\n",
    "# userFeatures['browseNum'].fillna(0, inplace=True)\n",
    "userFeatures['browseTypes'].fillna(0, inplace=True)\n",
    "userFeatures['browseTypes']=userFeatures['browseTypes'].astype(int)\n",
    "\n",
    "userFeatures['browseSubTypes'].fillna(0, inplace=True)\n",
    "userFeatures['browseSubTypes']=userFeatures['browseSubTypes'].astype(int)\n",
    "\n",
    "userFeatures['billBanksNum'].fillna(0, inplace=True)\n",
    "userFeatures['billBanksNum']=userFeatures['billBanksNum'].astype(int)\n",
    "\n",
    "userFeatures['billNum'].fillna(0, inplace=True)\n",
    "userFeatures['billNum']=userFeatures['billNum'].astype(int)\n",
    "\n",
    "userFeatures['salaryTotal'].fillna(0, inplace=True)\n",
    "userFeatures['transactionAmount'].fillna(0, inplace=True)\n",
    "# userFeatures['browseNum']=userFeatures['browseNum'].astype(int)\n",
    "\n",
    "\n",
    "\n",
    "\n",
    "\n",
    "print userFeatures.head()"
   ]
  },
  {
   "cell_type": "code",
   "execution_count": null,
   "metadata": {
    "collapsed": false
   },
   "outputs": [],
   "source": [
    "userFeatures.sort_index(inplace=True)\n",
    "trainOverdue.sort_index(inplace=True)"
   ]
  },
  {
   "cell_type": "code",
   "execution_count": null,
   "metadata": {
    "collapsed": true
   },
   "outputs": [],
   "source": [
    "def convert2Dummies(df, cln):\n",
    "    dummies=pd.get_dummies(df[cln]).astype(int)\n",
    "    dummies.columns=[cln+`c` for c in dummies.columns]\n",
    "\n",
    "    return pd.concat([df, dummies], axis=1)"
   ]
  },
  {
   "cell_type": "code",
   "execution_count": null,
   "metadata": {
    "collapsed": false
   },
   "outputs": [],
   "source": [
    "userFeatures=convert2Dummies(userFeatures, 'sex')\n",
    "userFeatures=convert2Dummies(userFeatures, 'profession')\n",
    "userFeatures=convert2Dummies(userFeatures, 'education')\n",
    "userFeatures=convert2Dummies(userFeatures, 'marriage')\n",
    "userFeatures=convert2Dummies(userFeatures, 'citizen_type')\n"
   ]
  },
  {
   "cell_type": "code",
   "execution_count": null,
   "metadata": {
    "collapsed": false
   },
   "outputs": [],
   "source": [
    "# overdueAmount=userFeatures['transactionAmount'].values[trainOverdue.values.ravel()==1]\n",
    "# plt.hist(overdueAmount, bins=20)\n",
    "# plt.figure()\n",
    "# plt.hist(userFeatures['transactionAmount'].values, bins=20)"
   ]
  },
  {
   "cell_type": "code",
   "execution_count": null,
   "metadata": {
    "collapsed": false,
    "scrolled": true
   },
   "outputs": [],
   "source": [
    "print userFeatures.head()"
   ]
  },
  {
   "cell_type": "code",
   "execution_count": null,
   "metadata": {
    "collapsed": false
   },
   "outputs": [],
   "source": [
    "userFeatures_select=userFeatures.copy()"
   ]
  },
  {
   "cell_type": "code",
   "execution_count": null,
   "metadata": {
    "collapsed": false
   },
   "outputs": [],
   "source": [
    "X=userFeatures_select.values\n",
    "imp=Imputer(missing_values='NaN', strategy='most_frequent', axis=0)\n",
    "X=imp.fit_transform(X)\n",
    "y=trainOverdue.values.ravel()"
   ]
  },
  {
   "cell_type": "code",
   "execution_count": null,
   "metadata": {
    "collapsed": false
   },
   "outputs": [],
   "source": [
    "corrmatrix=np.corrcoef(X.T, y)\n",
    "print corrmatrix[-1,:-1]"
   ]
  },
  {
   "cell_type": "code",
   "execution_count": null,
   "metadata": {
    "collapsed": false
   },
   "outputs": [],
   "source": [
    "X_train, X_test, y_train, y_test=train_test_split(X, y, test_size=0.2, random_state=8)\n",
    "weights=y_train+1"
   ]
  },
  {
   "cell_type": "code",
   "execution_count": null,
   "metadata": {
    "collapsed": false
   },
   "outputs": [],
   "source": [
    "scaler=StandardScaler()\n",
    "scaler.fit_transform(X_train)\n",
    "scaler.transform(X_test)"
   ]
  },
  {
   "cell_type": "code",
   "execution_count": null,
   "metadata": {
    "collapsed": false
   },
   "outputs": [],
   "source": [
    "factors=abs(np.array(corrmatrix[-1, :-1]))**1.7\n",
    "for i in xrange(2):\n",
    "    factors=normalize(factors.reshape(1,-1))\n",
    "    factors*=abs(corrmatrix[-1, :-1])\n",
    "print factors"
   ]
  },
  {
   "cell_type": "code",
   "execution_count": null,
   "metadata": {
    "collapsed": false
   },
   "outputs": [],
   "source": [
    "X_train*=factors\n",
    "X_test*=factors\n",
    "    "
   ]
  },
  {
   "cell_type": "code",
   "execution_count": null,
   "metadata": {
    "collapsed": false
   },
   "outputs": [],
   "source": [
    "knnc = KNeighborsClassifier(n_neighbors=10, weights='distance')\n",
    "knnc.fit(X_train, y_train)\n",
    "pred=knnc.predict_proba(X_test)[:,1]"
   ]
  },
  {
   "cell_type": "code",
   "execution_count": null,
   "metadata": {
    "collapsed": false
   },
   "outputs": [],
   "source": [
    "print len(pred[pred>0.5])\n",
    "print 1.0*sum(y_test)/len(y_test)\n",
    "print sum(y_test)\n",
    "print sum(y_train)\n",
    "print 1.0*len(pred[(pred>0.5)&(y_test==1)])/sum(y_test==1)\n",
    "\n",
    "p=pred[y_test==1]\n",
    "n=pred[y_test==0]\n",
    "print ks_2samp(p,n)"
   ]
  },
  {
   "cell_type": "code",
   "execution_count": null,
   "metadata": {
    "collapsed": false
   },
   "outputs": [],
   "source": [
    "clf_rf=rfc(n_estimators=1200, max_depth=None, n_jobs=7, min_samples_split=16, random_state=0)\n",
    "clf_rf.fit(X_train, y_train, sample_weight=weights)"
   ]
  },
  {
   "cell_type": "code",
   "execution_count": null,
   "metadata": {
    "collapsed": false
   },
   "outputs": [],
   "source": [
    "pred=clf_rf.predict_proba(X_test)[:,1]\n",
    "print len(pred[pred>0.5])\n",
    "print 1.0*sum(y_test)/len(y_test)\n",
    "print sum(y_test)\n",
    "print sum(y_train)\n",
    "print 1.0*len(pred[(pred>0.5)&(y_test==1)])/sum(y_test==1)\n",
    "\n",
    "p=pred[y_test==1]\n",
    "n=pred[y_test==0]\n",
    "print ks_2samp(p,n)"
   ]
  },
  {
   "cell_type": "code",
   "execution_count": null,
   "metadata": {
    "collapsed": true
   },
   "outputs": [],
   "source": []
  },
  {
   "cell_type": "code",
   "execution_count": null,
   "metadata": {
    "collapsed": true
   },
   "outputs": [],
   "source": []
  },
  {
   "cell_type": "code",
   "execution_count": null,
   "metadata": {
    "collapsed": true
   },
   "outputs": [],
   "source": []
  },
  {
   "cell_type": "code",
   "execution_count": null,
   "metadata": {
    "collapsed": true
   },
   "outputs": [],
   "source": []
  },
  {
   "cell_type": "code",
   "execution_count": null,
   "metadata": {
    "collapsed": true
   },
   "outputs": [],
   "source": []
  }
 ],
 "metadata": {
  "kernelspec": {
   "display_name": "Python 2",
   "language": "python",
   "name": "python2"
  },
  "language_info": {
   "codemirror_mode": {
    "name": "ipython",
    "version": 2
   },
   "file_extension": ".py",
   "mimetype": "text/x-python",
   "name": "python",
   "nbconvert_exporter": "python",
   "pygments_lexer": "ipython2",
   "version": "2.7.12"
  }
 },
 "nbformat": 4,
 "nbformat_minor": 0
}
