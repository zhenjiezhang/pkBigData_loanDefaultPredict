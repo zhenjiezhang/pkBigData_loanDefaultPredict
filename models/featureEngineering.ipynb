{
 "cells": [
  {
   "cell_type": "code",
   "execution_count": 1,
   "metadata": {
    "collapsed": false
   },
   "outputs": [
    {
     "name": "stderr",
     "output_type": "stream",
     "text": [
      "/home/zhenjie/anaconda2/lib/python2.7/site-packages/sklearn/cross_validation.py:44: DeprecationWarning: This module was deprecated in version 0.18 in favor of the model_selection module into which all the refactored classes and functions are moved. Also note that the interface of the new CV iterators are different from that of this module. This module will be removed in 0.20.\n",
      "  \"This module will be removed in 0.20.\", DeprecationWarning)\n"
     ]
    }
   ],
   "source": [
    "import pandas as pd\n",
    "import numpy as np\n",
    "from sklearn.model_selection import train_test_split, cross_val_score\n",
    "from sklearn.preprocessing import StandardScaler\n",
    "from sklearn.preprocessing import Imputer\n",
    "from sklearn.preprocessing import normalize\n",
    "\n",
    "from sklearn.ensemble import RandomForestClassifier as rfc\n",
    "from sklearn.neighbors import NearestNeighbors\n",
    "from sklearn.neighbors import KNeighborsClassifier\n",
    "\n",
    "import xgboost as xgb\n",
    "from xgboost.sklearn import XGBClassifier\n",
    "\n",
    "from scipy.stats import ks_2samp\n",
    "\n",
    "from matplotlib import pyplot as plt\n",
    "%matplotlib inline\n",
    "\n",
    "inputFolder='../data/'\n",
    "trainFolder=inputFolder+'train/'\n",
    "testFolder=inputFolder+'test/'\n",
    "\n"
   ]
  },
  {
   "cell_type": "code",
   "execution_count": 2,
   "metadata": {
    "collapsed": false
   },
   "outputs": [],
   "source": [
    "def readFiles(type='train'):\n",
    "    if type not in ('train', 'test'):\n",
    "        print 'error: type must be either \\'train\\' or \\'test\\''\n",
    "        return\n",
    "    \n",
    "    folder=trainFolder if type=='train' else testFolder\n",
    "    \n",
    "    usersFile=folder+'user_info_'+type+'.txt'\n",
    "    banksFile=folder+'bank_detail_'+type+'.txt'\n",
    "    browseFile=folder+'browse_history_'+type+'.txt'\n",
    "    billsFile=folder+'bill_detail_'+type+'.txt'\n",
    "    loanTimeFile=folder+'loan_time_'+type+'.txt'\n",
    "    overdueFile=folder+'overdue_'+type+'.txt'\n",
    "\n",
    "    users=pd.read_csv(usersFile, \\\n",
    "              names=['id','sex','profession','education','marriage','citizen_type'],\\\n",
    "              index_col=0)\n",
    "    banks=pd.read_csv(banksFile,\\\n",
    "              names=['user_id', 'time', 'transaction_type', 'amount', 'is_salary'])\n",
    "\n",
    "    browse=pd.read_csv(browseFile,\\\n",
    "               names=['user_id', 'time', 'browse_type', 'sub_type'])\n",
    "    bills=pd.read_csv(billsFile,\\\n",
    "              names=['user_id', 'time', 'bank_id', 'last_bill_amount', 'last_bill_pay', 'credit_line',\\\n",
    "                     'cur_bill_balance', 'cur_bill_min_due', 'transactionNum', 'cur_bill_amount', \\\n",
    "                     'adjusted_amount', 'cumulative_interest', 'available_deposit', 'available_credit', 'debt_status'])\n",
    "\n",
    "    loanTimes=pd.read_csv(loanTimeFile,\\\n",
    "              names=['user_id', 'time'])\n",
    "\n",
    "    overdues=pd.read_csv(overdueFile,\\\n",
    "              names=['user_id', 'label'], index_col=0) if type=='train' else None\n",
    "    \n",
    "    return users, banks, browse, bills, loanTimes, overdues\n",
    "\n",
    "trainUsers, trainBanks, trainBrowse, trainBills, trainLoanTime, trainOverdue=readFiles(type='train')\n",
    "testUsers, testBanks, testBrowse, testBills, testLoanTime, _=readFiles(type='test')\n",
    "\n",
    "\n",
    "        \n",
    "\n",
    "# trainUsers=pd.read_csv(trainFolder+'user_info_train.txt', \\\n",
    "#                            names=['id','sex','profession','education','marriage','citizen_type'],\\\n",
    "#                           index_col=0)\n",
    "\n",
    "\n",
    "# trainBanks=pd.read_csv(trainFolder+'bank_detail_train.txt',\\\n",
    "#                           names=['user_id', 'time', 'transaction_type', 'amount', 'is_salary'])\n",
    "\n",
    "# trainBrowse=pd.read_csv(trainFolder+'browse_history_train.txt',\\\n",
    "#                            names=['user_id', 'time', 'browse_type', 'sub_type'])\n",
    "\n",
    "# trainBills=pd.read_csv(trainFolder+'bill_detail_train.txt',\\\n",
    "#                           names=['user_id', 'time', 'bank_id', 'last_bill_amount', 'last_bill_pay', 'credit_line',\\\n",
    "#                                  'cur_bill_balance', 'cur_bill_min_due', 'transactionNum', 'cur_bill_amount', \\\n",
    "#                                  'adjusted_amount', 'cumulative_interest', 'available_deposit', 'available_credit', 'debt_status'])\n",
    "\n",
    "# trainLoanTime=pd.read_csv(trainFolder+'loan_time_train.txt',\\\n",
    "#                                 names=['user_id', 'time'])\n",
    "\n",
    "# trainOverdue=pd.read_csv(trainFolder+'overdue_train.txt',\\\n",
    "#                             names=['user_id', 'label'], index_col=0)"
   ]
  },
  {
   "cell_type": "code",
   "execution_count": 3,
   "metadata": {
    "collapsed": false
   },
   "outputs": [],
   "source": [
    "# # process transaction amounts by converting back to real sum of money.  Have to guess the function\n",
    "\n",
    "# trialTrainBanks=trainBanks.copy()\n",
    "# fundConv=lambda x: 2*np.power((np.exp(x)-1),0.5)\n",
    "# trialTrainBanks['amount']=fundConv(trialTrainBanks['amount'])\n",
    "# print trialTrainBanks['amount'].head()"
   ]
  },
  {
   "cell_type": "code",
   "execution_count": 4,
   "metadata": {
    "collapsed": false
   },
   "outputs": [],
   "source": [
    "def extractBillFeatures(bills, n_ids):\n",
    "    # prepare a list of banks in the bills form\n",
    "    \n",
    "    bank_ids=bills['bank_id'].unique()\n",
    "    bankBills=dict() # keys are banks ids, and values are bills associated with that bank id.\n",
    "    for b_id in bank_ids:\n",
    "        bs=bills[bills.bank_id==b_id]\n",
    "        if len(bs)>=1:\n",
    "            bankBills[b_id]=bs\n",
    "            \n",
    "    # prepare bank-wise bill features\n",
    "    billFeatures=pd.DataFrame(np.arange(n_ids)+1, columns=['id'])\n",
    "    billFeatures.set_index(['id'], inplace=True)\n",
    "    for b_id in bankBills.keys():\n",
    "        bankBillName='bank'+str(b_id).zfill(6)\n",
    "        billFeatures[bankBillName+'AvgCreditLine']=bankBills[b_id].groupby('user_id')['credit_line'].mean()\n",
    "    #     billFeatures[bankBillName+'MaxCreditLine']=bankBills[b_id].groupby('user_id')['available_credit'].mean()\n",
    "    billFeatures.fillna(-1, inplace=True)\n",
    "    \n",
    "    return billFeatures\n",
    "\n",
    "billFeatures=extractBillFeatures(trainBills, len(trainUsers))"
   ]
  },
  {
   "cell_type": "code",
   "execution_count": 5,
   "metadata": {
    "collapsed": false
   },
   "outputs": [],
   "source": [
    "def extractBrowseTypeFeatures(browse, n_ids):\n",
    "    # prepare browseType wise features:\n",
    "\n",
    "    browseType_ids=browse['browse_type'].unique()\n",
    "    browseTypes=dict()\n",
    "    for b_id in browseType_ids:\n",
    "        bs=browse[browse.browse_type==b_id]\n",
    "        if len(bs)>=1:\n",
    "            browseTypes[b_id]=bs\n",
    "\n",
    "    browseTypeFeatures=pd.DataFrame(np.arange(n_ids)+1, columns=['id'])\n",
    "    browseTypeFeatures.set_index(['id'], inplace=True)\n",
    "    for b_id in browseTypes.keys():\n",
    "        browseTypeName='browseType'+str(b_id).zfill(3)\n",
    "    #     browseTypeFeatures[browseTypeName+'TotalTimes']=browseTypes[b_id].groupby('user_id')['time'].count()\n",
    "        browseTypeFeatures[browseTypeName+'Freq']=browseTypes[b_id].groupby('user_id')['time'].count().div\\\n",
    "        (browseTypes[b_id].groupby('user_id')['time'].max()-browseTypes[b_id].groupby('user_id')['time'].min()+1+0.000001)\n",
    "    browseTypeFeatures.fillna(0, inplace=True)\n",
    "\n",
    "    return browseTypeFeatures\n",
    "\n",
    "browseTypeFeatures=extractBrowseTypeFeatures(trainBrowse, len(trainUsers))"
   ]
  },
  {
   "cell_type": "code",
   "execution_count": 6,
   "metadata": {
    "collapsed": false
   },
   "outputs": [],
   "source": [
    "# make a working dataset for training and testing\n",
    "\n",
    "userFeatures=trainUsers.copy()\n",
    "userFeatures=userFeatures.join(billFeatures)\n",
    "userFeatures=userFeatures.join(browseTypeFeatures)\n",
    "userFeatures.sort_index(inplace=True)\n",
    "trainOverdue.sort_index(inplace=True)\n"
   ]
  },
  {
   "cell_type": "code",
   "execution_count": null,
   "metadata": {
    "collapsed": false
   },
   "outputs": [],
   "source": [
    "# add manually picked features to the working dataset\n",
    "\n",
    "\n",
    "bankRecordsPersonal=trainBanks.groupby('user_id')\n",
    "\n",
    "userFeatures['transactionNum']=bankRecordsPersonal['amount'].count()\n",
    "userFeatures['transactionAmount']=bankRecordsPersonal['amount'].sum()\n",
    "\n",
    "\n",
    "userFeatures['transactionNetAmount']=bankRecordsPersonal.apply(lambda x: x[x['transaction_type']==1]['amount'].sum())-\\\n",
    "        bankRecordsPersonal.apply(lambda x: x[x['transaction_type']==0]['amount'].sum())\n",
    "\n",
    "\n",
    "userFeatures['transactionExpense']=bankRecordsPersonal.apply(lambda x: x[x['transaction_type']==1]['amount'].sum())\n",
    "userFeatures['transactionExpenseMax']=bankRecordsPersonal.apply(lambda x: x[x['transaction_type']==1]['amount'].max())\n",
    "userFeatures['transactionExpenseAvg']=bankRecordsPersonal.apply(lambda x: x[x['transaction_type']==1]['amount'].mean())\n",
    "\n",
    "userFeatures['transactionIncome']=bankRecordsPersonal.apply(lambda x: x[x['transaction_type']==0]['amount'].sum())\n",
    "\n",
    "userFeatures['transactionIncomeMax']=bankRecordsPersonal.apply(lambda x: x[x['transaction_type']==0]['amount'].max())\n",
    "userFeatures['transactionIncomeAvg']=bankRecordsPersonal.apply(lambda x: x[x['transaction_type']==0]['amount'].mean())\n",
    "\n",
    "userFeatures['transactionExpenseNum']=bankRecordsPersonal.apply(lambda x: x[x['transaction_type']==1]['amount'].count())\n",
    "userFeatures['transactionIncomeNum']=bankRecordsPersonal.apply(lambda x: x[x['transaction_type']==0]['amount'].count())\n",
    "\n",
    "userFeatures['salaryNum']=bankRecordsPersonal['is_salary'].sum()\n",
    "userFeatures['salaryTotal']=bankRecordsPersonal.apply(lambda x: x[x['is_salary']==1]['amount'].sum())\n",
    "userFeatures['salaryAvg']=bankRecordsPersonal.apply(lambda x: x[x['is_salary']==1]['amount'].mean())\n",
    "userFeatures['salaryMax']=bankRecordsPersonal.apply(lambda x: x[x['is_salary']==1]['amount'].max())\n",
    "\n",
    "browseRecordsPersonal=trainBrowse.groupby('user_id')\n",
    "userFeatures['browseNum']=browseRecordsPersonal['time'].count()\n",
    "\n",
    "\n",
    "userFeatures['browseFreq']=(browseRecordsPersonal['time'].count()).div(browseRecordsPersonal['time'].max()-browseRecordsPersonal['time'].min()+1+0.000001)\n",
    "userFeatures['browseTypes']=browseRecordsPersonal['browse_type'].nunique()\n",
    "userFeatures['browseSubTypes']=browseRecordsPersonal.apply(lambda x: x.groupby('browse_type')['sub_type'].nunique().sum())\n",
    "\n",
    "\n",
    "bills=trainBills.groupby('user_id')\n",
    "userFeatures['billBanksNum']=bills['bank_id'].nunique()\n",
    "userFeatures['billNum']=bills['time'].count()\n",
    "userFeatures['underpay']=bills.apply(lambda x: 1.0*sum(x['last_bill_amount']-x['last_bill_pay'])/len(x))\n",
    "\n",
    "userFeatures['avgCreditLine']=bills['credit_line'].mean()\n",
    "userFeatures['avgTransactionNum']=bills['transactionNum'].mean()\n",
    "userFeatures['maxBankCredit_line']=bills.apply(lambda x: x.groupby('bank_id')['credit_line'].mean().max())\n",
    "userFeatures['avgLastBillAmount']=bills.apply(lambda x: x.groupby('bank_id')['last_bill_amount'].mean().mean())\n",
    "userFeatures['avgMaxLastBillAmount']=bills.apply(lambda x: x.groupby('bank_id')['last_bill_amount'].max().mean())\n",
    "\n",
    "userFeatures['relative_bill_adjustment']=(bills['cur_bill_amount'].mean()-bills['adjusted_amount'].mean()).div(bills['cur_bill_amount'].mean()+0.00001)\n",
    "\n",
    "\n",
    "userFeatures['avgBillTimeSpan']=bills['time'].max()-bills['time'].min()\n",
    "userFeatures['maxBankBillTimeSpan']=bills.apply(lambda x: (x.groupby('bank_id')['time'].max()-x.groupby('bank_id')['time'].min()).max())\n",
    "userFeatures['totalBankBillTimeSpan']=bills.apply(lambda x: (x.groupby('bank_id')['time'].max()-x.groupby('bank_id')['time'].min()).sum())\n",
    "userFeatures['debtNum']=bills['debt_status'].mean()\n",
    "\n",
    "\n",
    "userFeatures['loanTime']=trainLoanTime['time']\n",
    "\n",
    "\n"
   ]
  },
  {
   "cell_type": "code",
   "execution_count": null,
   "metadata": {
    "collapsed": true
   },
   "outputs": [],
   "source": [
    "# add manually picked features to the working dataset\n",
    "def handPickedFeatures(users, banks, browse, bills, loanTimes):\n",
    "\n",
    "    handPickedFeatures=pd.DataFrame(np.arange(len(users))+1, columns=['id'])\n",
    "    handPickedFeatures.set_index(['id'], inplace=True)\n",
    "\n",
    "\n",
    "    # bank record features\n",
    "    bankRecordsPersonal=banks.groupby('user_id')\n",
    "    handPickedFeatures['transactionNum']=bankRecordsPersonal['amount'].count()\n",
    "    handPickedFeatures['transactionAmount']=bankRecordsPersonal['amount'].sum()\n",
    "    handPickedFeatures['transactionNetAmount']=bankRecordsPersonal.apply(lambda x: x[x['transaction_type']==1]['amount'].sum())-\\\n",
    "            bankRecordsPersonal.apply(lambda x: x[x['transaction_type']==0]['amount'].sum())\n",
    "    handPickedFeatures['transactionExpense']=bankRecordsPersonal.apply(lambda x: x[x['transaction_type']==1]['amount'].sum())\n",
    "    handPickedFeatures['transactionExpenseMax']=bankRecordsPersonal.apply(lambda x: x[x['transaction_type']==1]['amount'].max())\n",
    "    handPickedFeatures['transactionExpenseAvg']=bankRecordsPersonal.apply(lambda x: x[x['transaction_type']==1]['amount'].mean())\n",
    "    handPickedFeatures['transactionIncome']=bankRecordsPersonal.apply(lambda x: x[x['transaction_type']==0]['amount'].sum())\n",
    "    handPickedFeatures['transactionIncomeMax']=bankRecordsPersonal.apply(lambda x: x[x['transaction_type']==0]['amount'].max())\n",
    "    handPickedFeatures['transactionIncomeAvg']=bankRecordsPersonal.apply(lambda x: x[x['transaction_type']==0]['amount'].mean())\n",
    "    handPickedFeatures['transactionExpenseNum']=bankRecordsPersonal.apply(lambda x: x[x['transaction_type']==1]['amount'].count())\n",
    "    handPickedFeatures['transactionIncomeNum']=bankRecordsPersonal.apply(lambda x: x[x['transaction_type']==0]['amount'].count())\n",
    "    handPickedFeatures['salaryNum']=bankRecordsPersonal['is_salary'].sum()\n",
    "    handPickedFeatures['salaryTotal']=bankRecordsPersonal.apply(lambda x: x[x['is_salary']==1]['amount'].sum())\n",
    "    handPickedFeatures['salaryAvg']=bankRecordsPersonal.apply(lambda x: x[x['is_salary']==1]['amount'].mean())\n",
    "    handPickedFeatures['salaryMax']=bankRecordsPersonal.apply(lambda x: x[x['is_salary']==1]['amount'].max())\n",
    "\n",
    "\n",
    "    browseRecordsPersonal=browse.groupby('user_id')\n",
    "    handPickedFeatures['browseNum']=browseRecordsPersonal['time'].count()\n",
    "    handPickedFeatures['browseFreq']=(browseRecordsPersonal['time'].count()).div(browseRecordsPersonal['time'].max()-browseRecordsPersonal['time'].min()+1+0.000001)\n",
    "    handPickedFeatures['browseTypes']=browseRecordsPersonal['browse_type'].nunique()\n",
    "    handPickedFeatures['browseSubTypes']=browseRecordsPersonal.apply(lambda x: x.groupby('browse_type')['sub_type'].nunique().sum())\n",
    "\n",
    "\n",
    "    billsPersonal=bills.groupby('user_id')\n",
    "    handPickedFeatures['billBanksNum']=billsPersonal['bank_id'].nunique()\n",
    "    handPickedFeatures['billNum']=billsPersonal['time'].count()\n",
    "    handPickedFeatures['underpay']=billsPersonal.apply(lambda x: 1.0*sum(x['last_bill_amount']-x['last_bill_pay'])/len(x))\n",
    "    handPickedFeatures['avgCreditLine']=billsPersonal['credit_line'].mean()\n",
    "    handPickedFeatures['avgTransactionNum']=billsPersonal['transactionNum'].mean()\n",
    "    handPickedFeatures['maxBankCredit_line']=billsPersonal.apply(lambda x: x.groupby('bank_id')['credit_line'].mean().max())\n",
    "    handPickedFeatures['avgLastBillAmount']=billsPersonal.apply(lambda x: x.groupby('bank_id')['last_bill_amount'].mean().mean())\n",
    "    handPickedFeatures['avgMaxLastBillAmount']=billsPersonal.apply(lambda x: x.groupby('bank_id')['last_bill_amount'].max().mean())\n",
    "    handPickedFeatures['relative_bill_adjustment']=(billsPersonal['cur_bill_amount'].mean()-billsPersonal['adjusted_amount'].mean()).div(billsPersonal['cur_bill_amount'].mean()+0.00001)\n",
    "    handPickedFeatures['avgBillTimeSpan']=billsPersonal['time'].max()-billsPersonal['time'].min()\n",
    "    handPickedFeatures['maxBankBillTimeSpan']=billsPersonal.apply(lambda x: (x.groupby('bank_id')['time'].max()-x.groupby('bank_id')['time'].min()).max())\n",
    "    handPickedFeatures['totalBankBillTimeSpan']=billsPersonal.apply(lambda x: (x.groupby('bank_id')['time'].max()-x.groupby('bank_id')['time'].min()).sum())\n",
    "    handPickedFeatures['debtNum']=billsPersonal['debt_status'].mean()\n",
    "\n",
    "\n",
    "    handPickedFeatures['loanTime']=trainLoanTime['time']\n",
    "\n",
    "    return handPickedFeatures\n",
    "\n",
    "userFeatures.join(handPickedFeatures(trainUsers, trainBanks, trainBrowse, trainBills, trainLoanTime))"
   ]
  },
  {
   "cell_type": "code",
   "execution_count": 10,
   "metadata": {
    "collapsed": false
   },
   "outputs": [],
   "source": [
    "# make one-hot encoding for categorical features\n",
    "def convert2Dummies(df, cln):\n",
    "    dummies=pd.get_dummies(df[cln]).astype(int)\n",
    "    dummies.columns=[cln+`c` for c in dummies.columns]\n",
    "\n",
    "    return pd.concat([df, dummies], axis=1)\n",
    "\n",
    "userFeatures=convert2Dummies(userFeatures, 'sex')\n",
    "userFeatures=convert2Dummies(userFeatures, 'profession')\n",
    "userFeatures=convert2Dummies(userFeatures, 'education')\n",
    "userFeatures=convert2Dummies(userFeatures, 'marriage')\n",
    "userFeatures=convert2Dummies(userFeatures, 'citizen_type')\n",
    "\n",
    "\n",
    "\n",
    "\n",
    "# fill in NA with zeros or other numbers\n",
    "\n",
    "userFeatures['transactionNum'].fillna(0, inplace=True)\n",
    "userFeatures['transactionNum']=userFeatures['transactionNum'].astype(int)\n",
    "\n",
    "\n",
    "userFeatures['salaryNum'].fillna(0, inplace=True)\n",
    "userFeatures['salaryNum']=userFeatures['salaryNum'].astype(int)\n",
    "\n",
    "# userFeatures['browseNum'].fillna(0, inplace=True)\n",
    "userFeatures['browseTypes'].fillna(0, inplace=True)\n",
    "userFeatures['browseTypes']=userFeatures['browseTypes'].astype(int)\n",
    "\n",
    "userFeatures['browseSubTypes'].fillna(0, inplace=True)\n",
    "userFeatures['browseSubTypes']=userFeatures['browseSubTypes'].astype(int)\n",
    "\n",
    "userFeatures['billBanksNum'].fillna(0, inplace=True)\n",
    "userFeatures['billBanksNum']=userFeatures['billBanksNum'].astype(int)\n",
    "\n",
    "userFeatures['billNum'].fillna(0, inplace=True)\n",
    "userFeatures['billNum']=userFeatures['billNum'].astype(int)\n",
    "\n",
    "userFeatures['salaryTotal'].fillna(0, inplace=True)\n",
    "userFeatures['transactionAmount'].fillna(0, inplace=True)\n",
    "# userFeatures['browseNum']=userFeatures['browseNum'].astype(int)"
   ]
  },
  {
   "cell_type": "code",
   "execution_count": 11,
   "metadata": {
    "collapsed": false
   },
   "outputs": [],
   "source": [
    "# place to make addition change to the working dataset, without poluting the data\n",
    "\n",
    "userFeatures_select=userFeatures.copy()\n",
    "\n",
    "\n",
    "# temporary feature testing cells\n",
    "#userFeatures_select['try']=bills.apply(lambda x: (x.groupby('bank_id')['cur_bill_amount'].mean()-\\\n",
    "#             x.groupby('bank_id')['adjusted_amount'].mean()).div(x.groupby('bank_id')['cur_bill_amount'].mean()+0.000001).mean())\n",
    "\n",
    "\n",
    "\n",
    "#userFeatures_select['try']=bills.apply(lambda x: x.groupby('bank_id')['cur_bill_amount'].mean().mean())\n",
    "#userFeatures_select['try']=bills.apply(lambda x: x.groupby('bank_id')['cumulative_interest'].mean().max())\n",
    "\n",
    "#userFeatures_select['try']=bills.apply(lambda x: x.groupby('bank_id')['cur_bill_min_due'].mean().mean())\n",
    "#userFeatures_select['nonSalary']=bankRecordsPersonal.apply(\\\n",
    "#     lambda x: x[(x['is_salary']==0) & (x['transaction_type']==0)]['amount']/ \\\n",
    "#     x[(x['is_salary']==1)]['amount'])\n",
    "# printuserFeatures_select[['try', 'billNum']].head(20)"
   ]
  },
  {
   "cell_type": "code",
   "execution_count": 12,
   "metadata": {
    "collapsed": false
   },
   "outputs": [],
   "source": [
    "# userFeatures.drop(['try'], axis=1, inplace=True)"
   ]
  },
  {
   "cell_type": "code",
   "execution_count": 13,
   "metadata": {
    "collapsed": false
   },
   "outputs": [],
   "source": [
    "imp=Imputer(missing_values='NaN', strategy='most_frequent', axis=0)\n",
    "userFeatures_select=imp.fit_transform(userFeatures_select)\n",
    "\n",
    "# print userFeatures_select.head()"
   ]
  },
  {
   "cell_type": "code",
   "execution_count": 14,
   "metadata": {
    "collapsed": false
   },
   "outputs": [],
   "source": [
    "# split to training and testing sets\n",
    "y=trainOverdue.values.ravel()\n",
    "X_train, X_test, y_train, y_test=train_test_split(userFeatures_select, y\\\n",
    "                                                  , test_size=0.2, random_state=8)\n",
    "# make a data weight list for random forests to handle uneven distribution\n",
    "weights=y_train+0.3"
   ]
  },
  {
   "cell_type": "code",
   "execution_count": 15,
   "metadata": {
    "collapsed": false
   },
   "outputs": [
    {
     "data": {
      "text/plain": [
       "array([[-0.33689176,  2.14097994,  0.99953475, ..., -0.62446927,\n",
       "        -0.41475882, -0.58884405],\n",
       "       [-0.33689176,  0.81791615, -0.30181203, ...,  1.60135982,\n",
       "        -0.41475882, -0.58884405],\n",
       "       [-0.33689176, -0.50514763, -0.30181203, ...,  1.60135982,\n",
       "        -0.41475882, -0.58884405],\n",
       "       ..., \n",
       "       [-0.33689176, -0.50514763, -0.30181203, ..., -0.62446927,\n",
       "        -0.41475882,  1.6982425 ],\n",
       "       [-0.33689176, -0.50514763, -0.30181203, ..., -0.62446927,\n",
       "        -0.41475882, -0.58884405],\n",
       "       [-0.33689176, -0.50514763,  0.99953475, ...,  1.60135982,\n",
       "        -0.41475882, -0.58884405]])"
      ]
     },
     "execution_count": 15,
     "metadata": {},
     "output_type": "execute_result"
    }
   ],
   "source": [
    "# standardization\n",
    "scaler=StandardScaler()\n",
    "scaler.fit_transform(X_train)\n",
    "scaler.transform(X_test)"
   ]
  },
  {
   "cell_type": "code",
   "execution_count": 16,
   "metadata": {
    "collapsed": false
   },
   "outputs": [
    {
     "name": "stdout",
     "output_type": "stream",
     "text": [
      "[-0.09984565  0.00826746  0.03870428  0.00396767  0.01066433 -0.00226623\n",
      " -0.00947552 -0.03160595 -0.03647206  0.0024244  -0.0269219  -0.04960687\n",
      " -0.01497956 -0.01787624 -0.01638896 -0.00927952 -0.00131292 -0.03357353\n",
      " -0.02491264 -0.01962355 -0.03972253  0.00327372 -0.00364836 -0.00230947\n",
      " -0.00282958  0.01101058 -0.00163363 -0.00163363 -0.00205874 -0.00163363\n",
      " -0.00231011 -0.00163363 -0.00230867  0.00282292 -0.00228205 -0.00163363\n",
      " -0.00291592 -0.00370093  0.00165323 -0.00709271 -0.01112004 -0.00437161\n",
      " -0.00973534 -0.00863096 -0.00411298  0.00149692 -0.00732318 -0.00589689\n",
      " -0.0052874  -0.00048004 -0.00169119 -0.00231032  0.00281764 -0.01531177\n",
      " -0.00137294 -0.00497841 -0.01940946 -0.00280437 -0.01527393 -0.0031122\n",
      " -0.00334446 -0.02459072  0.00356079  0.00499028 -0.01134316  0.00056615\n",
      " -0.00992807 -0.01083622 -0.02848537 -0.01102328 -0.00027087 -0.0509346\n",
      " -0.00889017 -0.00066495 -0.01224795 -0.00605801 -0.00830329 -0.0210204\n",
      " -0.05103155 -0.00510511 -0.00163363 -0.00275662 -0.00443228 -0.05101558\n",
      " -0.01554456 -0.00163363 -0.01906209  0.00663056 -0.00883134 -0.0131848\n",
      " -0.01216657  0.00068818 -0.01099419 -0.00882547  0.00128788 -0.00621423\n",
      "  0.01101058 -0.00806715 -0.00231032 -0.00896527  0.00663056 -0.00231032\n",
      " -0.00276774 -0.00163363 -0.00163363 -0.00278552 -0.00422826 -0.00517241\n",
      " -0.00785226 -0.00414366 -0.0035852  -0.00269217 -0.01792855 -0.00163363\n",
      " -0.03998201 -0.00137294 -0.00201493 -0.00366228  0.00140096 -0.0031785\n",
      "  0.00263843 -0.009108   -0.02014517 -0.00882341 -0.00163363 -0.00169119\n",
      " -0.00286685 -0.00354581 -0.00777204  0.00312038 -0.00282598 -0.00282598\n",
      " -0.00365519 -0.04834212 -0.00079561 -0.00761345 -0.0220286  -0.01009171\n",
      " -0.00486676 -0.00986673 -0.00612279 -0.01365364 -0.04987446 -0.00348743\n",
      "  0.00186081 -0.00137294 -0.00495352 -0.00381596 -0.00293124  0.01101058\n",
      " -0.0511246  -0.00369677 -0.0359623  -0.00171086 -0.00321391 -0.00556707\n",
      " -0.00163363 -0.00124214 -0.00413341 -0.00163363 -0.0031785  -0.00324038\n",
      " -0.00829597 -0.00438983  0.00526022 -0.01055746  0.00014109  0.00374586\n",
      " -0.00350597 -0.00312894 -0.00924538 -0.05128543  0.00132706 -0.00163363\n",
      "  0.0008751   0.00829293  0.00317288 -0.00872118 -0.0078285  -0.00036796\n",
      " -0.00795284  0.00342248  0.00493187  0.00361156  0.00450032 -0.00381641\n",
      " -0.01309422 -0.00401606 -0.01399077 -0.00547137 -0.00120192 -0.00486881\n",
      " -0.01664398 -0.015029   -0.00663768 -0.05194672 -0.0016782   0.000768\n",
      " -0.02400667 -0.00365719 -0.00163363  0.00600376 -0.00163363 -0.00073186\n",
      " -0.05278395  0.00034418 -0.00293124 -0.00186795 -0.00389291 -0.00337674\n",
      " -0.00219176 -0.01242223 -0.00239259 -0.00264023 -0.00233204 -0.00467656\n",
      "  0.00256584  0.00216289 -0.00163363 -0.01982336 -0.03779961 -0.03501586\n",
      "  0.00325677 -0.00524392 -0.01055912 -0.01274724 -0.01204135 -0.00062151\n",
      " -0.00892169 -0.00239703 -0.00103249 -0.00655464 -0.02886009 -0.00249668\n",
      " -0.00396744  0.00802997  0.00661454  0.00782832 -0.00545881 -0.00497198\n",
      " -0.00895865 -0.00668285  0.00782832  0.01101058 -0.01742516 -0.00484229\n",
      " -0.00286057  0.00257245  0.02240804  0.01833539  0.02041685  0.01928639\n",
      " -0.052578    0.02922111  0.01526059 -0.01218405  0.0295078   0.01430856\n",
      "  0.00833712 -0.00175276 -0.00548025 -0.01266307 -0.01799713 -0.02566857\n",
      " -0.04860776  0.01834179  0.01834026 -0.07649229 -0.05819992  0.03712214\n",
      " -0.03415144  0.01075614 -0.02471834 -0.02788725 -0.03762937 -0.04090809\n",
      " -0.02270917 -0.0249302  -0.03613623  0.00092606  0.02269457  0.13775726\n",
      " -0.01059447 -0.05074661  0.01815592  0.00654069 -0.01376585 -0.00278987\n",
      "  0.0146259   0.01804614 -0.00943854 -0.0422042  -0.00684591  0.03592918\n",
      "  0.01793669 -0.00793756  0.00428987 -0.00054338  0.00666468  0.01036003\n",
      "  0.01804614 -0.02056155  0.01613081 -0.01261837  0.01202309]\n"
     ]
    }
   ],
   "source": [
    "# compute the correlation between variants and labels\n",
    "corrmatrix=np.corrcoef(userFeatures_select.T, y)\n",
    "print corrmatrix[-1,:-1]"
   ]
  },
  {
   "cell_type": "code",
   "execution_count": 17,
   "metadata": {
    "collapsed": false
   },
   "outputs": [],
   "source": [
    "# compute relative importance of features\n",
    "factors=abs(np.array(corrmatrix[-1, :-1]))**1.7\n",
    "for i in xrange(2):\n",
    "    factors=normalize(factors.reshape(1,-1))\n",
    "    factors*=abs(corrmatrix[-1, :-1])\n",
    "\n",
    "# scale features according to their lative importance\n",
    "X_train*=factors\n",
    "X_test*=factors"
   ]
  },
  {
   "cell_type": "code",
   "execution_count": 18,
   "metadata": {
    "collapsed": false
   },
   "outputs": [],
   "source": [
    "# nearest neighbors\n",
    "knnc = KNeighborsClassifier(n_neighbors=10, weights='distance')\n",
    "knnc.fit(X_train, y_train)\n",
    "pred=knnc.predict_proba(X_test)[:,1]"
   ]
  },
  {
   "cell_type": "code",
   "execution_count": 19,
   "metadata": {
    "collapsed": false
   },
   "outputs": [
    {
     "name": "stdout",
     "output_type": "stream",
     "text": [
      "352\n",
      "0.130575539568\n",
      "1452\n",
      "5731\n",
      "0.0564738292011\n",
      "Ks_2sampResult(statistic=0.16809935591671021, pvalue=1.263097638816552e-31)\n"
     ]
    }
   ],
   "source": [
    "print len(pred[pred>0.5])\n",
    "print 1.0*sum(y_test)/len(y_test)\n",
    "print sum(y_test)\n",
    "print sum(y_train)\n",
    "print 1.0*len(pred[(pred>0.5)&(y_test==1)])/sum(y_test==1)\n",
    "\n",
    "p=pred[y_test==1]\n",
    "n=pred[y_test==0]\n",
    "print ks_2samp(p,n)"
   ]
  },
  {
   "cell_type": "code",
   "execution_count": 20,
   "metadata": {
    "collapsed": false
   },
   "outputs": [
    {
     "data": {
      "text/plain": [
       "RandomForestClassifier(bootstrap=True, class_weight=None, criterion='gini',\n",
       "            max_depth=None, max_features=136, max_leaf_nodes=None,\n",
       "            min_impurity_split=1e-07, min_samples_leaf=1,\n",
       "            min_samples_split=16, min_weight_fraction_leaf=0.0,\n",
       "            n_estimators=1200, n_jobs=7, oob_score=False, random_state=0,\n",
       "            verbose=0, warm_start=False)"
      ]
     },
     "execution_count": 20,
     "metadata": {},
     "output_type": "execute_result"
    }
   ],
   "source": [
    "# random forest classifier\n",
    "clf_rf=rfc(n_estimators=1200, max_features=8*int(np.sqrt(X_train.shape[1])), max_depth=None, n_jobs=7, min_samples_split=16, random_state=0)\n",
    "clf_rf.fit(X_train, y_train, sample_weight=weights)"
   ]
  },
  {
   "cell_type": "code",
   "execution_count": 21,
   "metadata": {
    "collapsed": false
   },
   "outputs": [
    {
     "name": "stdout",
     "output_type": "stream",
     "text": [
      "446\n",
      "0.130575539568\n",
      "1452\n",
      "5731\n",
      "0.154269972452\n",
      "Ks_2sampResult(statistic=0.43616184031612626, pvalue=1.8035114625754209e-210)\n"
     ]
    }
   ],
   "source": [
    "pred=clf_rf.predict_proba(X_test)[:,1]\n",
    "print len(pred[pred>0.5])\n",
    "print 1.0*sum(y_test)/len(y_test)\n",
    "print sum(y_test)\n",
    "print sum(y_train)\n",
    "print 1.0*len(pred[(pred>0.5)&(y_test==1)])/sum(y_test==1)\n",
    "\n",
    "p=pred[y_test==1]\n",
    "n=pred[y_test==0]\n",
    "print ks_2samp(p,n)"
   ]
  },
  {
   "cell_type": "code",
   "execution_count": null,
   "metadata": {
    "collapsed": true
   },
   "outputs": [],
   "source": []
  },
  {
   "cell_type": "code",
   "execution_count": null,
   "metadata": {
    "collapsed": true
   },
   "outputs": [],
   "source": []
  },
  {
   "cell_type": "code",
   "execution_count": null,
   "metadata": {
    "collapsed": true
   },
   "outputs": [],
   "source": []
  },
  {
   "cell_type": "code",
   "execution_count": 22,
   "metadata": {
    "collapsed": false
   },
   "outputs": [
    {
     "data": {
      "text/plain": [
       "XGBClassifier(base_score=0.5, colsample_bylevel=0.9, colsample_bytree=1,\n",
       "       gamma=2, learning_rate=0.04, max_delta_step=0, max_depth=5,\n",
       "       min_child_weight=1, missing=None, n_estimators=1200, nthread=-1,\n",
       "       objective='binary:logistic', reg_alpha=0, reg_lambda=1,\n",
       "       scale_pos_weight=1, seed=0, silent=True, subsample=0.9)"
      ]
     },
     "execution_count": 22,
     "metadata": {},
     "output_type": "execute_result"
    }
   ],
   "source": [
    "clf_xgb=XGBClassifier(learning_rate=0.04, n_estimators=1200, subsample=0.9, colsample_bylevel=0.9, objective='binary:logistic', \\\n",
    "                      max_depth=5, gamma=2, seed=0)\n",
    "clf_xgb.fit(X_train, y_train)"
   ]
  },
  {
   "cell_type": "code",
   "execution_count": 23,
   "metadata": {
    "collapsed": false
   },
   "outputs": [],
   "source": [
    "pred = clf_xgb.predict_proba(X_test)[:,1]"
   ]
  },
  {
   "cell_type": "code",
   "execution_count": 24,
   "metadata": {
    "collapsed": false
   },
   "outputs": [
    {
     "name": "stdout",
     "output_type": "stream",
     "text": [
      "315\n",
      "0.130575539568\n",
      "1452\n",
      "5731\n",
      "0.129476584022\n",
      "Ks_2sampResult(statistic=0.45133130682459305, pvalue=2.4635188337377945e-225)\n"
     ]
    }
   ],
   "source": [
    "print len(pred[pred>0.5])\n",
    "print 1.0*sum(y_test)/len(y_test)\n",
    "print sum(y_test)\n",
    "print sum(y_train)\n",
    "print 1.0*len(pred[(pred>0.5)&(y_test==1)])/sum(y_test==1)\n",
    "\n",
    "p=pred[y_test==1]\n",
    "n=pred[y_test==0]\n",
    "print ks_2samp(p,n)"
   ]
  },
  {
   "cell_type": "code",
   "execution_count": null,
   "metadata": {
    "collapsed": true
   },
   "outputs": [],
   "source": []
  },
  {
   "cell_type": "code",
   "execution_count": null,
   "metadata": {
    "collapsed": true
   },
   "outputs": [],
   "source": []
  },
  {
   "cell_type": "code",
   "execution_count": null,
   "metadata": {
    "collapsed": true
   },
   "outputs": [],
   "source": []
  },
  {
   "cell_type": "code",
   "execution_count": null,
   "metadata": {
    "collapsed": true
   },
   "outputs": [],
   "source": []
  },
  {
   "cell_type": "code",
   "execution_count": null,
   "metadata": {
    "collapsed": true
   },
   "outputs": [],
   "source": []
  }
 ],
 "metadata": {
  "kernelspec": {
   "display_name": "Python 2",
   "language": "python",
   "name": "python2"
  },
  "language_info": {
   "codemirror_mode": {
    "name": "ipython",
    "version": 2
   },
   "file_extension": ".py",
   "mimetype": "text/x-python",
   "name": "python",
   "nbconvert_exporter": "python",
   "pygments_lexer": "ipython2",
   "version": "2.7.12"
  }
 },
 "nbformat": 4,
 "nbformat_minor": 0
}
