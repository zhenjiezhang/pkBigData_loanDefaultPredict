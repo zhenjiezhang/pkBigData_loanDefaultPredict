{
 "cells": [
  {
   "cell_type": "code",
   "execution_count": 99,
   "metadata": {
    "collapsed": false
   },
   "outputs": [],
   "source": [
    "import pandas as pd\n",
    "import numpy as np\n",
    "from sklearn.model_selection import train_test_split\n",
    "from sklearn.model_selection import cross_val_score\n",
    "from sklearn.ensemble import RandomForestClassifier as rfc\n",
    "from sklearn import svm\n",
    "from sklearn.preprocessing import Imputer\n",
    "from sklearn.preprocessing import normalize\n",
    "\n",
    "from matplotlib import pyplot as plt\n",
    "%matplotlib inline\n",
    "\n",
    "inputFolder='../data/'\n",
    "trainFolder=inputFolder+'train/'\n",
    "testFolder=inputFolder+'test/'"
   ]
  },
  {
   "cell_type": "code",
   "execution_count": 100,
   "metadata": {
    "collapsed": false
   },
   "outputs": [],
   "source": [
    "trainUsers=pd.read_csv(trainFolder+'user_info_train.txt', \\\n",
    "                           names=['id','sex','profession','education','marriage','citizen_type'],\\\n",
    "                          index_col=0)\n",
    "\n",
    "trainBanks=pd.read_csv(trainFolder+'bank_detail_train.txt',\\\n",
    "                          names=['user_id', 'time', 'transaction_type', 'amount', 'is_salary'])\n",
    "\n",
    "trainBrowse=pd.read_csv(trainFolder+'browse_history_train.txt',\\\n",
    "                           names=['user_id', 'time', 'browse_type', 'sub_type'])\n",
    "\n",
    "trainBills=pd.read_csv(trainFolder+'bill_detail_train.txt',\\\n",
    "                          names=['user_id', 'time', 'bank_id', 'last_bill_amount', 'last_bill_pay', 'credit_line', 'cur_bill_balance', 'cur_bill_min_due', 'transactionNum', 'cur_bill_amount', 'adjusted_amount', 'cumulative_interest', 'available_deposit', 'available_credit', 'debt_status'])\n",
    "\n",
    "trainFundingTime=pd.read_csv(trainFolder+'loan_time_train.txt',\\\n",
    "                                names=['user_id', 'time'])\n",
    "\n",
    "trainOverdue=pd.read_csv(trainFolder+'overdue_train.txt',\\\n",
    "                            names=['user_id', 'label'], index_col=0)"
   ]
  },
  {
   "cell_type": "code",
   "execution_count": 101,
   "metadata": {
    "collapsed": true
   },
   "outputs": [],
   "source": [
    "userFeatures=trainUsers.copy()\n",
    "\n",
    "bankRecordsPersonal=trainBanks.groupby('user_id')\n",
    "userFeatures['transactionNum']=bankRecordsPersonal['amount'].count().astype(int)\n",
    "userFeatures['transactionAmount']=bankRecordsPersonal['amount'].sum()\n",
    "userFeatures['salaryNum']=bankRecordsPersonal['is_salary'].sum().astype(int)\n",
    "\n",
    "browseRecordsPersonal=trainBrowse.groupby('user_id')\n",
    "userFeatures['browseNum']=browseRecordsPersonal['time'].count().astype(int)\n",
    "userFeatures['browseTypes']=browseRecordsPersonal['browse_type'].nunique().astype(int)\n",
    "userFeatures['browseSubTypes']=browseRecordsPersonal.apply(lambda x: x.groupby('browse_type')['sub_type'].nunique().sum()).astype(int)\n",
    "\n",
    "bills=trainBills.groupby('user_id')\n",
    "userFeatures['billBanksNum']=bills['bank_id'].nunique().astype(int)\n",
    "userFeatures['billNum']=bills['time'].count().astype(int)"
   ]
  },
  {
   "cell_type": "code",
   "execution_count": 102,
   "metadata": {
    "collapsed": false
   },
   "outputs": [
    {
     "name": "stdout",
     "output_type": "stream",
     "text": [
      "      sex  profession  education  marriage  citizen_type  transactionNum  \\\n",
      "id                                                                         \n",
      "3150    1           2          4         1             4               0   \n",
      "6965    1           2          4         3             2             364   \n",
      "1265    1           3          4         3             1             419   \n",
      "6360    1           2          4         3             2               0   \n",
      "2583    2           2          2         1             1             831   \n",
      "\n",
      "      transactionAmount  salaryNum  browseNum  browseTypes  browseSubTypes  \\\n",
      "id                                                                           \n",
      "3150           0.000000          0        NaN            0               0   \n",
      "6965        4207.382203          0     1710.0           39              39   \n",
      "1265        5370.663258          0      420.0           17              17   \n",
      "6360           0.000000          0      225.0            9               9   \n",
      "2583        9800.785996          0      702.0           20              20   \n",
      "\n",
      "      billBanksNum  billNum  \n",
      "id                           \n",
      "3150             5       38  \n",
      "6965             2        4  \n",
      "1265             2       54  \n",
      "6360             8      141  \n",
      "2583             3       24  \n"
     ]
    }
   ],
   "source": [
    "userFeatures['transactionNum'].fillna(0, inplace=True)\n",
    "userFeatures['salaryNum'].fillna(0, inplace=True)\n",
    "# userFeatures['browseNum'].fillna(0, inplace=True)\n",
    "userFeatures['browseTypes'].fillna(0, inplace=True)\n",
    "userFeatures['browseSubTypes'].fillna(0, inplace=True)\n",
    "userFeatures['billBanksNum'].fillna(0, inplace=True)\n",
    "userFeatures['billNum'].fillna(0, inplace=True)\n",
    "\n",
    "\n",
    "userFeatures['transactionNum']=userFeatures['transactionNum'].astype(int)\n",
    "userFeatures['salaryNum']=userFeatures['salaryNum'].astype(int)\n",
    "# userFeatures['browseNum']=userFeatures['browseNum'].astype(int)\n",
    "userFeatures['browseTypes']=userFeatures['browseTypes'].astype(int)\n",
    "userFeatures['browseSubTypes']=userFeatures['browseSubTypes'].astype(int)\n",
    "userFeatures['billBanksNum']=userFeatures['billBanksNum'].astype(int)\n",
    "userFeatures['billNum']=userFeatures['billNum'].astype(int)\n",
    "\n",
    "userFeatures['transactionAmount'].fillna(0, inplace=True)\n",
    "print userFeatures.head()"
   ]
  },
  {
   "cell_type": "code",
   "execution_count": 103,
   "metadata": {
    "collapsed": false
   },
   "outputs": [],
   "source": [
    "userFeatures.sort_index(inplace=True)\n",
    "trainOverdue.sort_index(inplace=True)"
   ]
  },
  {
   "cell_type": "code",
   "execution_count": 104,
   "metadata": {
    "collapsed": true
   },
   "outputs": [],
   "source": [
    "def convert2Dummies(df, cln):\n",
    "    dummies=pd.get_dummies(df[cln]).astype(int)\n",
    "    dummies.columns=[cln+`c` for c in dummies.columns]\n",
    "\n",
    "    return pd.concat([df, dummies], axis=1)"
   ]
  },
  {
   "cell_type": "code",
   "execution_count": 105,
   "metadata": {
    "collapsed": false
   },
   "outputs": [],
   "source": [
    "userFeatures=convert2Dummies(userFeatures, 'sex')\n",
    "userFeatures=convert2Dummies(userFeatures, 'profession')\n",
    "userFeatures=convert2Dummies(userFeatures, 'education')\n",
    "userFeatures=convert2Dummies(userFeatures, 'marriage')\n",
    "userFeatures=convert2Dummies(userFeatures, 'citizen_type')\n"
   ]
  },
  {
   "cell_type": "code",
   "execution_count": 159,
   "metadata": {
    "collapsed": false
   },
   "outputs": [
    {
     "data": {
      "text/plain": [
       "(array([  5.11190000e+04,   2.69400000e+03,   1.01900000e+03,\n",
       "          4.56000000e+02,   2.13000000e+02,   5.50000000e+01,\n",
       "          2.20000000e+01,   8.00000000e+00,   4.00000000e+00,\n",
       "          3.00000000e+00,   1.00000000e+00,   1.00000000e+00,\n",
       "          0.00000000e+00,   0.00000000e+00,   0.00000000e+00,\n",
       "          0.00000000e+00,   0.00000000e+00,   0.00000000e+00,\n",
       "          0.00000000e+00,   1.00000000e+00]),\n",
       " array([      0.        ,    6095.95994705,   12191.9198941 ,\n",
       "          18287.87984115,   24383.8397882 ,   30479.79973525,\n",
       "          36575.7596823 ,   42671.71962935,   48767.6795764 ,\n",
       "          54863.63952345,   60959.5994705 ,   67055.55941755,\n",
       "          73151.5193646 ,   79247.47931165,   85343.4392587 ,\n",
       "          91439.39920575,   97535.3591528 ,  103631.31909985,\n",
       "         109727.2790469 ,  115823.23899395,  121919.198941  ]),\n",
       " <a list of 20 Patch objects>)"
      ]
     },
     "execution_count": 159,
     "metadata": {},
     "output_type": "execute_result"
    },
    {
     "data": {
      "image/png": "[encoded data removed]",
      "text/plain": [
       "<matplotlib.figure.Figure at 0x7f94816bf710>"
      ]
     },
     "metadata": {},
     "output_type": "display_data"
    },
    {
     "data": {
      "image/png": "[encoded data removed]",
      "text/plain": [
       "<matplotlib.figure.Figure at 0x7f9480073e10>"
      ]
     },
     "metadata": {},
     "output_type": "display_data"
    }
   ],
   "source": [
    "overdueAmount=userFeatures['transactionAmount'].values[trainOverdue.values.ravel()==1]\n",
    "plt.hist(overdueAmount, bins=20)\n",
    "plt.figure()\n",
    "plt.hist(userFeatures['transactionAmount'].values, bins=20)"
   ]
  },
  {
   "cell_type": "code",
   "execution_count": 106,
   "metadata": {
    "collapsed": false
   },
   "outputs": [
    {
     "name": "stdout",
     "output_type": "stream",
     "text": [
      "    sex  profession  education  marriage  citizen_type  transactionNum  \\\n",
      "id                                                                       \n",
      "1     1           2          3         1             3              86   \n",
      "2     1           2          3         2             1               0   \n",
      "3     1           4          4         1             4             679   \n",
      "4     1           4          4         3             2             291   \n",
      "5     1           2          2         3             1               0   \n",
      "\n",
      "    transactionAmount  salaryNum  browseNum  browseTypes      ...        \\\n",
      "id                                                            ...         \n",
      "1         1156.718031          0        NaN            0      ...         \n",
      "2            0.000000          0     1305.0           24      ...         \n",
      "3         7264.831053          0      342.0           15      ...         \n",
      "4         3293.768106          0      364.0           17      ...         \n",
      "5            0.000000          0        NaN            0      ...         \n",
      "\n",
      "    marriage1  marriage2  marriage3  marriage4  marriage5  citizen_type0  \\\n",
      "id                                                                         \n",
      "1           1          0          0          0          0              0   \n",
      "2           0          1          0          0          0              0   \n",
      "3           1          0          0          0          0              0   \n",
      "4           0          0          1          0          0              0   \n",
      "5           0          0          1          0          0              0   \n",
      "\n",
      "    citizen_type1  citizen_type2  citizen_type3  citizen_type4  \n",
      "id                                                              \n",
      "1               0              0              1              0  \n",
      "2               1              0              0              0  \n",
      "3               0              0              0              1  \n",
      "4               0              1              0              0  \n",
      "5               1              0              0              0  \n",
      "\n",
      "[5 rows x 37 columns]\n"
     ]
    }
   ],
   "source": [
    "print userFeatures.head()"
   ]
  },
  {
   "cell_type": "code",
   "execution_count": 96,
   "metadata": {
    "collapsed": false
   },
   "outputs": [],
   "source": [
    "byFeatures=userFeatures.copy()\n",
    "byFeatures['label']=trainOverdue['label']\n",
    "\n",
    "crit='billNum'\n",
    "result=pd.DataFrame({'count': byFeatures.groupby(crit)['label'].count(), \\\n",
    "'mean': byFeatures.groupby(crit)['label'].mean()})\n",
    "# print result\n"
   ]
  },
  {
   "cell_type": "code",
   "execution_count": 107,
   "metadata": {
    "collapsed": false
   },
   "outputs": [],
   "source": [
    "\n",
    "X=userFeatures.values\n",
    "imp=Imputer(missing_values='NaN', strategy='most_frequent', axis=0)\n",
    "X=imp.fit_transform(X)\n",
    "y=trainOverdue.values.ravel()"
   ]
  },
  {
   "cell_type": "code",
   "execution_count": 95,
   "metadata": {
    "collapsed": false
   },
   "outputs": [
    {
     "name": "stdout",
     "output_type": "stream",
     "text": [
      "(5, 27)\n",
      "(55596,)\n"
     ]
    }
   ],
   "source": [
    "print X.shape\n",
    "print y.shape"
   ]
  },
  {
   "cell_type": "code",
   "execution_count": 142,
   "metadata": {
    "collapsed": false
   },
   "outputs": [],
   "source": [
    "X_train, X_test, y_train, y_test=train_test_split(X, y, test_size=0.2)\n",
    "weights=y_train+1"
   ]
  },
  {
   "cell_type": "code",
   "execution_count": 143,
   "metadata": {
    "collapsed": false
   },
   "outputs": [
    {
     "data": {
      "text/plain": [
       "RandomForestClassifier(bootstrap=True, class_weight=None, criterion='gini',\n",
       "            max_depth=None, max_features='auto', max_leaf_nodes=None,\n",
       "            min_impurity_split=1e-07, min_samples_leaf=1,\n",
       "            min_samples_split=4, min_weight_fraction_leaf=0.0,\n",
       "            n_estimators=600, n_jobs=4, oob_score=False, random_state=0,\n",
       "            verbose=0, warm_start=False)"
      ]
     },
     "execution_count": 143,
     "metadata": {},
     "output_type": "execute_result"
    }
   ],
   "source": [
    "clf=rfc(n_estimators=600, max_depth=None, n_jobs=4, min_samples_split=4, random_state=0)\n",
    "clf.fit(X_train, y_train, sample_weight=weights)"
   ]
  },
  {
   "cell_type": "code",
   "execution_count": 144,
   "metadata": {
    "collapsed": false
   },
   "outputs": [
    {
     "data": {
      "text/plain": [
       "0.86807553956834538"
      ]
     },
     "execution_count": 144,
     "metadata": {},
     "output_type": "execute_result"
    }
   ],
   "source": [
    "clf.score(X_test, y_test)"
   ]
  },
  {
   "cell_type": "code",
   "execution_count": 145,
   "metadata": {
    "collapsed": false
   },
   "outputs": [],
   "source": [
    "pred=clf.predict_proba(X_test)[:,1]"
   ]
  },
  {
   "cell_type": "code",
   "execution_count": 71,
   "metadata": {
    "collapsed": true
   },
   "outputs": [],
   "source": [
    "p=clf.predict(X)"
   ]
  },
  {
   "cell_type": "code",
   "execution_count": 146,
   "metadata": {
    "collapsed": false
   },
   "outputs": [
    {
     "name": "stdout",
     "output_type": "stream",
     "text": [
      "238\n",
      "0.125809352518\n",
      "1399\n",
      "5784\n",
      "0.06075768406\n"
     ]
    }
   ],
   "source": [
    "print len(pred[pred>0.5])\n",
    "print 1.0*sum(y_test)/len(y_test)\n",
    "print sum(y_test)\n",
    "print sum(y_train)\n",
    "print 1.0*len(pred[(pred>0.5)&(y_test==1)])/sum(y_test==1)"
   ]
  },
  {
   "cell_type": "code",
   "execution_count": 74,
   "metadata": {
    "collapsed": false
   },
   "outputs": [
    {
     "name": "stdout",
     "output_type": "stream",
     "text": [
      "0.676179869135\n"
     ]
    }
   ],
   "source": [
    "print 1.0*sum((p==y)&(y==1))/sum(y)"
   ]
  },
  {
   "cell_type": "code",
   "execution_count": null,
   "metadata": {
    "collapsed": true
   },
   "outputs": [],
   "source": [
    "svm_clf=svm.SVC(kernel='linear', C=1).fit(X_train, y_train)"
   ]
  },
  {
   "cell_type": "code",
   "execution_count": null,
   "metadata": {
    "collapsed": true
   },
   "outputs": [],
   "source": []
  }
 ],
 "metadata": {
  "kernelspec": {
   "display_name": "Python 2",
   "language": "python",
   "name": "python2"
  },
  "language_info": {
   "codemirror_mode": {
    "name": "ipython",
    "version": 2
   },
   "file_extension": ".py",
   "mimetype": "text/x-python",
   "name": "python",
   "nbconvert_exporter": "python",
   "pygments_lexer": "ipython2",
   "version": "2.7.12"
  }
 },
 "nbformat": 4,
 "nbformat_minor": 0
}
